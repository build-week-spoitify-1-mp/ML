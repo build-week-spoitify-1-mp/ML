{
  "nbformat": 4,
  "nbformat_minor": 0,
  "metadata": {
    "colab": {
      "name": "Spotify_Neural_Network.ipynb",
      "provenance": [],
      "collapsed_sections": []
    },
    "kernelspec": {
      "name": "python3",
      "display_name": "Python 3"
    }
  },
  "cells": [
    {
      "cell_type": "code",
      "metadata": {
        "id": "3u1kLfO_jhNX",
        "colab_type": "code",
        "colab": {}
      },
      "source": [
        "import numpy as np\n",
        "import pandas as pd\n",
        "from sklearn.preprocessing import StandardScaler\n",
        "from sklearn.neighbors import NearestNeighbors"
      ],
      "execution_count": 0,
      "outputs": []
    },
    {
      "cell_type": "code",
      "metadata": {
        "id": "sJO-mEwPjpHq",
        "colab_type": "code",
        "colab": {}
      },
      "source": [
        "# load data\n",
        "data = pd.read_csv(\n",
        "    \"https://raw.githubusercontent.com/Lambda-Spotify-Song-Suggester-3/datascience/master/kaggle_data/encoded.csv\")\n",
        "df = data.copy()\n",
        "\n",
        "dictionary = df[['artist_name', 'track_name', 'track_key', 'track_id']]"
      ],
      "execution_count": 0,
      "outputs": []
    },
    {
      "cell_type": "code",
      "metadata": {
        "id": "US0idWMRjqFG",
        "colab_type": "code",
        "outputId": "f1b74570-9c19-49a6-adbc-1142cd2e9a9e",
        "colab": {
          "base_uri": "https://localhost:8080/",
          "height": 385
        }
      },
      "source": [
        "print(df.shape)\n",
        "df.head()"
      ],
      "execution_count": 108,
      "outputs": [
        {
          "output_type": "stream",
          "text": [
            "(130663, 19)\n"
          ],
          "name": "stdout"
        },
        {
          "output_type": "execute_result",
          "data": {
            "text/html": [
              "<div>\n",
              "<style scoped>\n",
              "    .dataframe tbody tr th:only-of-type {\n",
              "        vertical-align: middle;\n",
              "    }\n",
              "\n",
              "    .dataframe tbody tr th {\n",
              "        vertical-align: top;\n",
              "    }\n",
              "\n",
              "    .dataframe thead th {\n",
              "        text-align: right;\n",
              "    }\n",
              "</style>\n",
              "<table border=\"1\" class=\"dataframe\">\n",
              "  <thead>\n",
              "    <tr style=\"text-align: right;\">\n",
              "      <th></th>\n",
              "      <th>artist_name</th>\n",
              "      <th>track_id</th>\n",
              "      <th>track_name</th>\n",
              "      <th>acousticness</th>\n",
              "      <th>danceability</th>\n",
              "      <th>duration_ms</th>\n",
              "      <th>energy</th>\n",
              "      <th>instrumentalness</th>\n",
              "      <th>key</th>\n",
              "      <th>liveness</th>\n",
              "      <th>loudness</th>\n",
              "      <th>mode</th>\n",
              "      <th>speechiness</th>\n",
              "      <th>tempo</th>\n",
              "      <th>time_signature</th>\n",
              "      <th>valence</th>\n",
              "      <th>popularity</th>\n",
              "      <th>track_key</th>\n",
              "      <th>artist_key</th>\n",
              "    </tr>\n",
              "  </thead>\n",
              "  <tbody>\n",
              "    <tr>\n",
              "      <th>0</th>\n",
              "      <td>YG</td>\n",
              "      <td>2RM4jf1Xa9zPgMGRDiht8O</td>\n",
              "      <td>Big Bank feat. 2 Chainz, Big Sean, Nicki Minaj</td>\n",
              "      <td>0.005820</td>\n",
              "      <td>0.743</td>\n",
              "      <td>238373</td>\n",
              "      <td>0.339</td>\n",
              "      <td>0.000</td>\n",
              "      <td>1</td>\n",
              "      <td>0.0812</td>\n",
              "      <td>-7.678</td>\n",
              "      <td>1</td>\n",
              "      <td>0.4090</td>\n",
              "      <td>203.927</td>\n",
              "      <td>4</td>\n",
              "      <td>0.118</td>\n",
              "      <td>15</td>\n",
              "      <td>1</td>\n",
              "      <td>1</td>\n",
              "    </tr>\n",
              "    <tr>\n",
              "      <th>1</th>\n",
              "      <td>YG</td>\n",
              "      <td>1tHDG53xJNGsItRA3vfVgs</td>\n",
              "      <td>BAND DRUM (feat. A$AP Rocky)</td>\n",
              "      <td>0.024400</td>\n",
              "      <td>0.846</td>\n",
              "      <td>214800</td>\n",
              "      <td>0.557</td>\n",
              "      <td>0.000</td>\n",
              "      <td>8</td>\n",
              "      <td>0.2860</td>\n",
              "      <td>-7.259</td>\n",
              "      <td>1</td>\n",
              "      <td>0.4570</td>\n",
              "      <td>159.009</td>\n",
              "      <td>4</td>\n",
              "      <td>0.371</td>\n",
              "      <td>0</td>\n",
              "      <td>2</td>\n",
              "      <td>1</td>\n",
              "    </tr>\n",
              "    <tr>\n",
              "      <th>2</th>\n",
              "      <td>R3HAB</td>\n",
              "      <td>6Wosx2euFPMT14UXiWudMy</td>\n",
              "      <td>Radio Silence</td>\n",
              "      <td>0.025000</td>\n",
              "      <td>0.603</td>\n",
              "      <td>138913</td>\n",
              "      <td>0.723</td>\n",
              "      <td>0.000</td>\n",
              "      <td>9</td>\n",
              "      <td>0.0824</td>\n",
              "      <td>-5.890</td>\n",
              "      <td>0</td>\n",
              "      <td>0.0454</td>\n",
              "      <td>114.966</td>\n",
              "      <td>4</td>\n",
              "      <td>0.382</td>\n",
              "      <td>56</td>\n",
              "      <td>3</td>\n",
              "      <td>2</td>\n",
              "    </tr>\n",
              "    <tr>\n",
              "      <th>3</th>\n",
              "      <td>Chris Cooq</td>\n",
              "      <td>3J2Jpw61sO7l6Hc7qdYV91</td>\n",
              "      <td>Lactose</td>\n",
              "      <td>0.029400</td>\n",
              "      <td>0.800</td>\n",
              "      <td>125381</td>\n",
              "      <td>0.579</td>\n",
              "      <td>0.912</td>\n",
              "      <td>5</td>\n",
              "      <td>0.0994</td>\n",
              "      <td>-12.118</td>\n",
              "      <td>0</td>\n",
              "      <td>0.0701</td>\n",
              "      <td>123.003</td>\n",
              "      <td>4</td>\n",
              "      <td>0.641</td>\n",
              "      <td>0</td>\n",
              "      <td>4</td>\n",
              "      <td>3</td>\n",
              "    </tr>\n",
              "    <tr>\n",
              "      <th>4</th>\n",
              "      <td>Chris Cooq</td>\n",
              "      <td>2jbYvQCyPgX3CdmAzeVeuS</td>\n",
              "      <td>Same - Original mix</td>\n",
              "      <td>0.000035</td>\n",
              "      <td>0.783</td>\n",
              "      <td>124016</td>\n",
              "      <td>0.792</td>\n",
              "      <td>0.878</td>\n",
              "      <td>7</td>\n",
              "      <td>0.0332</td>\n",
              "      <td>-10.277</td>\n",
              "      <td>1</td>\n",
              "      <td>0.0661</td>\n",
              "      <td>120.047</td>\n",
              "      <td>4</td>\n",
              "      <td>0.928</td>\n",
              "      <td>0</td>\n",
              "      <td>5</td>\n",
              "      <td>3</td>\n",
              "    </tr>\n",
              "  </tbody>\n",
              "</table>\n",
              "</div>"
            ],
            "text/plain": [
              "  artist_name                track_id  ... track_key  artist_key\n",
              "0          YG  2RM4jf1Xa9zPgMGRDiht8O  ...         1           1\n",
              "1          YG  1tHDG53xJNGsItRA3vfVgs  ...         2           1\n",
              "2       R3HAB  6Wosx2euFPMT14UXiWudMy  ...         3           2\n",
              "3  Chris Cooq  3J2Jpw61sO7l6Hc7qdYV91  ...         4           3\n",
              "4  Chris Cooq  2jbYvQCyPgX3CdmAzeVeuS  ...         5           3\n",
              "\n",
              "[5 rows x 19 columns]"
            ]
          },
          "metadata": {
            "tags": []
          },
          "execution_count": 108
        }
      ]
    },
    {
      "cell_type": "code",
      "metadata": {
        "id": "WaDLrzpu9R5e",
        "colab_type": "code",
        "outputId": "4d067542-09df-4933-c281-6bad694e4085",
        "colab": {
          "base_uri": "https://localhost:8080/",
          "height": 197
        }
      },
      "source": [
        "dictionary.head()"
      ],
      "execution_count": 109,
      "outputs": [
        {
          "output_type": "execute_result",
          "data": {
            "text/html": [
              "<div>\n",
              "<style scoped>\n",
              "    .dataframe tbody tr th:only-of-type {\n",
              "        vertical-align: middle;\n",
              "    }\n",
              "\n",
              "    .dataframe tbody tr th {\n",
              "        vertical-align: top;\n",
              "    }\n",
              "\n",
              "    .dataframe thead th {\n",
              "        text-align: right;\n",
              "    }\n",
              "</style>\n",
              "<table border=\"1\" class=\"dataframe\">\n",
              "  <thead>\n",
              "    <tr style=\"text-align: right;\">\n",
              "      <th></th>\n",
              "      <th>artist_name</th>\n",
              "      <th>track_name</th>\n",
              "      <th>track_key</th>\n",
              "      <th>track_id</th>\n",
              "    </tr>\n",
              "  </thead>\n",
              "  <tbody>\n",
              "    <tr>\n",
              "      <th>0</th>\n",
              "      <td>YG</td>\n",
              "      <td>Big Bank feat. 2 Chainz, Big Sean, Nicki Minaj</td>\n",
              "      <td>1</td>\n",
              "      <td>2RM4jf1Xa9zPgMGRDiht8O</td>\n",
              "    </tr>\n",
              "    <tr>\n",
              "      <th>1</th>\n",
              "      <td>YG</td>\n",
              "      <td>BAND DRUM (feat. A$AP Rocky)</td>\n",
              "      <td>2</td>\n",
              "      <td>1tHDG53xJNGsItRA3vfVgs</td>\n",
              "    </tr>\n",
              "    <tr>\n",
              "      <th>2</th>\n",
              "      <td>R3HAB</td>\n",
              "      <td>Radio Silence</td>\n",
              "      <td>3</td>\n",
              "      <td>6Wosx2euFPMT14UXiWudMy</td>\n",
              "    </tr>\n",
              "    <tr>\n",
              "      <th>3</th>\n",
              "      <td>Chris Cooq</td>\n",
              "      <td>Lactose</td>\n",
              "      <td>4</td>\n",
              "      <td>3J2Jpw61sO7l6Hc7qdYV91</td>\n",
              "    </tr>\n",
              "    <tr>\n",
              "      <th>4</th>\n",
              "      <td>Chris Cooq</td>\n",
              "      <td>Same - Original mix</td>\n",
              "      <td>5</td>\n",
              "      <td>2jbYvQCyPgX3CdmAzeVeuS</td>\n",
              "    </tr>\n",
              "  </tbody>\n",
              "</table>\n",
              "</div>"
            ],
            "text/plain": [
              "  artist_name  ...                track_id\n",
              "0          YG  ...  2RM4jf1Xa9zPgMGRDiht8O\n",
              "1          YG  ...  1tHDG53xJNGsItRA3vfVgs\n",
              "2       R3HAB  ...  6Wosx2euFPMT14UXiWudMy\n",
              "3  Chris Cooq  ...  3J2Jpw61sO7l6Hc7qdYV91\n",
              "4  Chris Cooq  ...  2jbYvQCyPgX3CdmAzeVeuS\n",
              "\n",
              "[5 rows x 4 columns]"
            ]
          },
          "metadata": {
            "tags": []
          },
          "execution_count": 109
        }
      ]
    },
    {
      "cell_type": "code",
      "metadata": {
        "id": "Ic8HEVM97LAe",
        "colab_type": "code",
        "colab": {}
      },
      "source": [
        "# drop columns for training\n",
        "df = df.drop(\n",
        "    columns=[\n",
        "        'artist_name',\n",
        "        'track_id',\n",
        "        'track_name'])\n"
      ],
      "execution_count": 0,
      "outputs": []
    },
    {
      "cell_type": "code",
      "metadata": {
        "id": "ArGCy6Xs9YGB",
        "colab_type": "code",
        "outputId": "5260f9cc-6bcd-45e4-9d28-5a8e2e93cac2",
        "colab": {
          "base_uri": "https://localhost:8080/",
          "height": 217
        }
      },
      "source": [
        "df.head()"
      ],
      "execution_count": 111,
      "outputs": [
        {
          "output_type": "execute_result",
          "data": {
            "text/html": [
              "<div>\n",
              "<style scoped>\n",
              "    .dataframe tbody tr th:only-of-type {\n",
              "        vertical-align: middle;\n",
              "    }\n",
              "\n",
              "    .dataframe tbody tr th {\n",
              "        vertical-align: top;\n",
              "    }\n",
              "\n",
              "    .dataframe thead th {\n",
              "        text-align: right;\n",
              "    }\n",
              "</style>\n",
              "<table border=\"1\" class=\"dataframe\">\n",
              "  <thead>\n",
              "    <tr style=\"text-align: right;\">\n",
              "      <th></th>\n",
              "      <th>acousticness</th>\n",
              "      <th>danceability</th>\n",
              "      <th>duration_ms</th>\n",
              "      <th>energy</th>\n",
              "      <th>instrumentalness</th>\n",
              "      <th>key</th>\n",
              "      <th>liveness</th>\n",
              "      <th>loudness</th>\n",
              "      <th>mode</th>\n",
              "      <th>speechiness</th>\n",
              "      <th>tempo</th>\n",
              "      <th>time_signature</th>\n",
              "      <th>valence</th>\n",
              "      <th>popularity</th>\n",
              "      <th>track_key</th>\n",
              "      <th>artist_key</th>\n",
              "    </tr>\n",
              "  </thead>\n",
              "  <tbody>\n",
              "    <tr>\n",
              "      <th>0</th>\n",
              "      <td>0.005820</td>\n",
              "      <td>0.743</td>\n",
              "      <td>238373</td>\n",
              "      <td>0.339</td>\n",
              "      <td>0.000</td>\n",
              "      <td>1</td>\n",
              "      <td>0.0812</td>\n",
              "      <td>-7.678</td>\n",
              "      <td>1</td>\n",
              "      <td>0.4090</td>\n",
              "      <td>203.927</td>\n",
              "      <td>4</td>\n",
              "      <td>0.118</td>\n",
              "      <td>15</td>\n",
              "      <td>1</td>\n",
              "      <td>1</td>\n",
              "    </tr>\n",
              "    <tr>\n",
              "      <th>1</th>\n",
              "      <td>0.024400</td>\n",
              "      <td>0.846</td>\n",
              "      <td>214800</td>\n",
              "      <td>0.557</td>\n",
              "      <td>0.000</td>\n",
              "      <td>8</td>\n",
              "      <td>0.2860</td>\n",
              "      <td>-7.259</td>\n",
              "      <td>1</td>\n",
              "      <td>0.4570</td>\n",
              "      <td>159.009</td>\n",
              "      <td>4</td>\n",
              "      <td>0.371</td>\n",
              "      <td>0</td>\n",
              "      <td>2</td>\n",
              "      <td>1</td>\n",
              "    </tr>\n",
              "    <tr>\n",
              "      <th>2</th>\n",
              "      <td>0.025000</td>\n",
              "      <td>0.603</td>\n",
              "      <td>138913</td>\n",
              "      <td>0.723</td>\n",
              "      <td>0.000</td>\n",
              "      <td>9</td>\n",
              "      <td>0.0824</td>\n",
              "      <td>-5.890</td>\n",
              "      <td>0</td>\n",
              "      <td>0.0454</td>\n",
              "      <td>114.966</td>\n",
              "      <td>4</td>\n",
              "      <td>0.382</td>\n",
              "      <td>56</td>\n",
              "      <td>3</td>\n",
              "      <td>2</td>\n",
              "    </tr>\n",
              "    <tr>\n",
              "      <th>3</th>\n",
              "      <td>0.029400</td>\n",
              "      <td>0.800</td>\n",
              "      <td>125381</td>\n",
              "      <td>0.579</td>\n",
              "      <td>0.912</td>\n",
              "      <td>5</td>\n",
              "      <td>0.0994</td>\n",
              "      <td>-12.118</td>\n",
              "      <td>0</td>\n",
              "      <td>0.0701</td>\n",
              "      <td>123.003</td>\n",
              "      <td>4</td>\n",
              "      <td>0.641</td>\n",
              "      <td>0</td>\n",
              "      <td>4</td>\n",
              "      <td>3</td>\n",
              "    </tr>\n",
              "    <tr>\n",
              "      <th>4</th>\n",
              "      <td>0.000035</td>\n",
              "      <td>0.783</td>\n",
              "      <td>124016</td>\n",
              "      <td>0.792</td>\n",
              "      <td>0.878</td>\n",
              "      <td>7</td>\n",
              "      <td>0.0332</td>\n",
              "      <td>-10.277</td>\n",
              "      <td>1</td>\n",
              "      <td>0.0661</td>\n",
              "      <td>120.047</td>\n",
              "      <td>4</td>\n",
              "      <td>0.928</td>\n",
              "      <td>0</td>\n",
              "      <td>5</td>\n",
              "      <td>3</td>\n",
              "    </tr>\n",
              "  </tbody>\n",
              "</table>\n",
              "</div>"
            ],
            "text/plain": [
              "   acousticness  danceability  duration_ms  ...  popularity  track_key  artist_key\n",
              "0      0.005820         0.743       238373  ...          15          1           1\n",
              "1      0.024400         0.846       214800  ...           0          2           1\n",
              "2      0.025000         0.603       138913  ...          56          3           2\n",
              "3      0.029400         0.800       125381  ...           0          4           3\n",
              "4      0.000035         0.783       124016  ...           0          5           3\n",
              "\n",
              "[5 rows x 16 columns]"
            ]
          },
          "metadata": {
            "tags": []
          },
          "execution_count": 111
        }
      ]
    },
    {
      "cell_type": "code",
      "metadata": {
        "id": "5S4vszQw7LPU",
        "colab_type": "code",
        "colab": {}
      },
      "source": [
        "# Scale the data\n",
        "scaler = StandardScaler()\n",
        "df_s = scaler.fit_transform(df)"
      ],
      "execution_count": 0,
      "outputs": []
    },
    {
      "cell_type": "code",
      "metadata": {
        "id": "dFmIJzdXNuqB",
        "colab_type": "code",
        "colab": {
          "base_uri": "https://localhost:8080/",
          "height": 247
        },
        "outputId": "81337e8f-fe1d-4b74-b6e6-2cb5d495d70e"
      },
      "source": [
        "df_s"
      ],
      "execution_count": 112,
      "outputs": [
        {
          "output_type": "execute_result",
          "data": {
            "text/plain": [
              "array([[-0.97408012,  0.84982596,  0.20900459, ..., -0.46715031,\n",
              "        -1.7321124 , -1.17912281],\n",
              "       [-0.92032465,  1.39171405,  0.01759476, ..., -1.22806504,\n",
              "        -1.73208584, -1.17912281],\n",
              "       [-0.91858874,  0.11327905, -0.59859825, ...,  1.61268329,\n",
              "        -1.73205928, -1.17902738],\n",
              "       ...,\n",
              "       [-0.03616588,  0.71303868, -0.59634092, ...,  1.15613445,\n",
              "         1.72952995, -1.06823843],\n",
              "       [-0.96806228,  1.00239639, -0.26487136, ...,  1.3083174 ,\n",
              "         1.72955651,  0.46200407],\n",
              "       [ 0.59744266,  0.70251658, -0.54245743, ...,  1.56195565,\n",
              "         1.72958307, -1.03579378]])"
            ]
          },
          "metadata": {
            "tags": []
          },
          "execution_count": 112
        }
      ]
    },
    {
      "cell_type": "code",
      "metadata": {
        "id": "uWvLKLlLPy-i",
        "colab_type": "code",
        "colab": {
          "base_uri": "https://localhost:8080/",
          "height": 34
        },
        "outputId": "d080d6cd-862e-4abf-e663-313788146211"
      },
      "source": [
        "df_s.shape"
      ],
      "execution_count": 113,
      "outputs": [
        {
          "output_type": "execute_result",
          "data": {
            "text/plain": [
              "(130663, 16)"
            ]
          },
          "metadata": {
            "tags": []
          },
          "execution_count": 113
        }
      ]
    },
    {
      "cell_type": "code",
      "metadata": {
        "id": "PiU5J0K9QI8C",
        "colab_type": "code",
        "colab": {
          "base_uri": "https://localhost:8080/",
          "height": 34
        },
        "outputId": "1d23547d-c25b-44a2-d32b-244ec71c886f"
      },
      "source": [
        "# X_train, X_test split\n",
        "from sklearn.model_selection import train_test_split\n",
        "\n",
        "X_train, X_test= train_test_split(df_s, test_size=0.33)\n",
        "X_train.shape, X_test.shape"
      ],
      "execution_count": 114,
      "outputs": [
        {
          "output_type": "execute_result",
          "data": {
            "text/plain": [
              "((87544, 16), (43119, 16))"
            ]
          },
          "metadata": {
            "tags": []
          },
          "execution_count": 114
        }
      ]
    },
    {
      "cell_type": "code",
      "metadata": {
        "id": "ZZYU5kwgSU5y",
        "colab_type": "code",
        "colab": {
          "base_uri": "https://localhost:8080/",
          "height": 52
        },
        "outputId": "b0b23137-7906-4221-e970-682f3bfdc037"
      },
      "source": [
        "X_train = X_train.reshape((len(X_train), np.prod(X_train.shape[1:])))\n",
        "X_test = X_test.reshape((len(X_test), np.prod(X_test.shape[1:])))\n",
        "print(X_train.shape)\n",
        "print(X_test.shape)"
      ],
      "execution_count": 115,
      "outputs": [
        {
          "output_type": "stream",
          "text": [
            "(87544, 16)\n",
            "(43119, 16)\n"
          ],
          "name": "stdout"
        }
      ]
    },
    {
      "cell_type": "code",
      "metadata": {
        "id": "IMXx8-VHRgmb",
        "colab_type": "code",
        "colab": {}
      },
      "source": [
        "# # Scale the data\n",
        "# scaler = StandardScaler()\n",
        "# X_train = scaler.fit_transform(X_train)\n",
        "# X_test = scaler.fit_transform(X_test)\n",
        "# X_train.shape, X_test.shape"
      ],
      "execution_count": 0,
      "outputs": []
    },
    {
      "cell_type": "code",
      "metadata": {
        "id": "PHpsBUV-Nus1",
        "colab_type": "code",
        "colab": {}
      },
      "source": [
        "# neural networks\n",
        "import os\n",
        "import datetime\n",
        "from tensorflow.keras.layers import Input, Dense\n",
        "from tensorflow.keras.models import Model\n",
        "from tensorflow.keras.callbacks import EarlyStopping, TensorBoard\n",
        "\n",
        "from tensorflow.keras.callbacks import TensorBoard\n",
        "# this is the size of our encoded representations\n",
        "encoding_dim = 1000\n",
        "\n",
        "# this is our input placeholder\n",
        "input_shape = Input(shape=(16,))\n",
        "\n",
        "# \"encoded\" is the encoded representation of the input\n",
        "encoded = Dense(encoding_dim, activation=\"relu\")(input_shape)\n",
        "\n",
        "# \"decoded\" is the lossy reconstruction of the input\n",
        "decoded = Dense(16, activation=\"softmax\")(encoded)\n",
        "\n",
        "# this model maps an input to its reconstruction\n",
        "autoencoder = Model(input_shape, decoded)"
      ],
      "execution_count": 0,
      "outputs": []
    },
    {
      "cell_type": "code",
      "metadata": {
        "id": "NHpBA0vyQ8-K",
        "colab_type": "code",
        "colab": {}
      },
      "source": [
        "autoencoder.compile(optimizer='nadam', loss='binary_crossentropy')"
      ],
      "execution_count": 0,
      "outputs": []
    },
    {
      "cell_type": "code",
      "metadata": {
        "id": "HSZW0oGvQ9BB",
        "colab_type": "code",
        "colab": {
          "base_uri": "https://localhost:8080/",
          "height": 390
        },
        "outputId": "658bbf31-df81-42d9-d571-b4ce13e70fc5"
      },
      "source": [
        "\n",
        "stop = EarlyStopping(monitor='val_loss', min_delta=0.001, patience=2)\n",
        "\n",
        "logdir = os.path.join(\"logs\", datetime.datetime.now().strftime(\"%Y%m%d-%H%M%S\"))\n",
        "tensorboard = TensorBoard(log_dir=logdir)\n",
        "\n",
        "autoencoder.fit(X_train, X_train,\n",
        "                epochs=100,\n",
        "                batch_size=64,\n",
        "                shuffle=True,\n",
        "                validation_data=(X_test, X_test),\n",
        "                verbose = 1,\n",
        "                callbacks=[stop, tensorboard])"
      ],
      "execution_count": 118,
      "outputs": [
        {
          "output_type": "stream",
          "text": [
            "Epoch 1/100\n",
            "1368/1368 [==============================] - 4s 3ms/step - loss: -4.8700 - val_loss: -5.3069\n",
            "Epoch 2/100\n",
            "1368/1368 [==============================] - 4s 3ms/step - loss: -5.3511 - val_loss: -5.3725\n",
            "Epoch 3/100\n",
            "1368/1368 [==============================] - 5s 3ms/step - loss: -5.3776 - val_loss: -5.3822\n",
            "Epoch 4/100\n",
            "1368/1368 [==============================] - 5s 3ms/step - loss: -5.3841 - val_loss: -5.3861\n",
            "Epoch 5/100\n",
            "1368/1368 [==============================] - 4s 3ms/step - loss: -5.3867 - val_loss: -5.3886\n",
            "Epoch 6/100\n",
            "1368/1368 [==============================] - 4s 3ms/step - loss: -5.3883 - val_loss: -5.3896\n",
            "Epoch 7/100\n",
            "1368/1368 [==============================] - 4s 3ms/step - loss: -5.3893 - val_loss: -5.3904\n",
            "Epoch 8/100\n",
            "1368/1368 [==============================] - 4s 3ms/step - loss: -5.3901 - val_loss: -5.3909\n",
            "Epoch 9/100\n",
            "1368/1368 [==============================] - 4s 3ms/step - loss: -5.3907 - val_loss: -5.3915\n",
            "Epoch 10/100\n",
            "1368/1368 [==============================] - 4s 3ms/step - loss: -5.3912 - val_loss: -5.3912\n"
          ],
          "name": "stdout"
        },
        {
          "output_type": "execute_result",
          "data": {
            "text/plain": [
              "<tensorflow.python.keras.callbacks.History at 0x7f650cdbb0f0>"
            ]
          },
          "metadata": {
            "tags": []
          },
          "execution_count": 118
        }
      ]
    },
    {
      "cell_type": "code",
      "metadata": {
        "id": "EvobSM4XVcvL",
        "colab_type": "code",
        "colab": {}
      },
      "source": [
        "input_shape = Input(shape=(16,))\n",
        "encoded = Dense(10, activation='elu')(input_shape)\n",
        "encoded = Dense(5, activation='elu')(encoded)\n",
        "\n",
        "encoded = Dense(3, activation='elu')(encoded) #=> This is the dry fruit\n",
        "\n",
        "decoded = Dense(5, activation='elu')(encoded)\n",
        "decoded = Dense(10, activation='elu')(decoded)\n",
        "decoded = Dense(16, activation=\"softmax\")(decoded)"
      ],
      "execution_count": 0,
      "outputs": []
    },
    {
      "cell_type": "code",
      "metadata": {
        "id": "BP8qxjfaVqSm",
        "colab_type": "code",
        "colab": {
          "base_uri": "https://localhost:8080/",
          "height": 1000
        },
        "outputId": "feb27726-7024-42fc-fbd4-019c081096c5"
      },
      "source": [
        "# compile & fit model\n",
        "\n",
        "autoencoder = Model(input_shape, decoded)\n",
        "\n",
        "autoencoder.compile(optimizer='adadelta',\n",
        "                    loss='binary_crossentropy')\n",
        "\n",
        "stop = EarlyStopping(monitor='val_loss', min_delta=0.01, patience=2)\n",
        "\n",
        "logdir = os.path.join(\"logs\", datetime.datetime.now().strftime(\"%Y%m%d-%H%M%S\"))\n",
        "tensorboard = TensorBoard(log_dir=logdir)\n",
        "\n",
        "model = autoencoder.fit(X_train, X_train,\n",
        "                epochs=100,\n",
        "                batch_size=32,\n",
        "                shuffle=True,\n",
        "                validation_data=(X_test, X_test),\n",
        "                verbose = 1,\n",
        "                callbacks=[stop, tensorboard])"
      ],
      "execution_count": 120,
      "outputs": [
        {
          "output_type": "stream",
          "text": [
            "Epoch 1/100\n",
            "2736/2736 [==============================] - 6s 2ms/step - loss: 0.0633 - val_loss: 0.0608\n",
            "Epoch 2/100\n",
            "2736/2736 [==============================] - 6s 2ms/step - loss: 0.0572 - val_loss: 0.0547\n",
            "Epoch 3/100\n",
            "2736/2736 [==============================] - 6s 2ms/step - loss: 0.0511 - val_loss: 0.0485\n",
            "Epoch 4/100\n",
            "2736/2736 [==============================] - 6s 2ms/step - loss: 0.0449 - val_loss: 0.0422\n",
            "Epoch 5/100\n",
            "2736/2736 [==============================] - 6s 2ms/step - loss: 0.0385 - val_loss: 0.0358\n",
            "Epoch 6/100\n",
            "2736/2736 [==============================] - 6s 2ms/step - loss: 0.0320 - val_loss: 0.0290\n",
            "Epoch 7/100\n",
            "2736/2736 [==============================] - 6s 2ms/step - loss: 0.0251 - val_loss: 0.0220\n",
            "Epoch 8/100\n",
            "2736/2736 [==============================] - 6s 2ms/step - loss: 0.0179 - val_loss: 0.0145\n",
            "Epoch 9/100\n",
            "2736/2736 [==============================] - 6s 2ms/step - loss: 0.0103 - val_loss: 0.0068\n",
            "Epoch 10/100\n",
            "2736/2736 [==============================] - 6s 2ms/step - loss: 0.0024 - val_loss: -0.0015\n",
            "Epoch 11/100\n",
            "2736/2736 [==============================] - 6s 2ms/step - loss: -0.0061 - val_loss: -0.0103\n",
            "Epoch 12/100\n",
            "2736/2736 [==============================] - 6s 2ms/step - loss: -0.0151 - val_loss: -0.0196\n",
            "Epoch 13/100\n",
            "2736/2736 [==============================] - 6s 2ms/step - loss: -0.0248 - val_loss: -0.0297\n",
            "Epoch 14/100\n",
            "2736/2736 [==============================] - 6s 2ms/step - loss: -0.0351 - val_loss: -0.0403\n",
            "Epoch 15/100\n",
            "2736/2736 [==============================] - 6s 2ms/step - loss: -0.0461 - val_loss: -0.0517\n",
            "Epoch 16/100\n",
            "2736/2736 [==============================] - 6s 2ms/step - loss: -0.0580 - val_loss: -0.0641\n",
            "Epoch 17/100\n",
            "2736/2736 [==============================] - 6s 2ms/step - loss: -0.0708 - val_loss: -0.0773\n",
            "Epoch 18/100\n",
            "2736/2736 [==============================] - 6s 2ms/step - loss: -0.0844 - val_loss: -0.0913\n",
            "Epoch 19/100\n",
            "2736/2736 [==============================] - 6s 2ms/step - loss: -0.0988 - val_loss: -0.1062\n",
            "Epoch 20/100\n",
            "2736/2736 [==============================] - 6s 2ms/step - loss: -0.1142 - val_loss: -0.1220\n",
            "Epoch 21/100\n",
            "2736/2736 [==============================] - 6s 2ms/step - loss: -0.1305 - val_loss: -0.1388\n",
            "Epoch 22/100\n",
            "2736/2736 [==============================] - 6s 2ms/step - loss: -0.1478 - val_loss: -0.1564\n",
            "Epoch 23/100\n",
            "2736/2736 [==============================] - 6s 2ms/step - loss: -0.1657 - val_loss: -0.1747\n",
            "Epoch 24/100\n",
            "2736/2736 [==============================] - 6s 2ms/step - loss: -0.1847 - val_loss: -0.1943\n",
            "Epoch 25/100\n",
            "2736/2736 [==============================] - 6s 2ms/step - loss: -0.2046 - val_loss: -0.2146\n",
            "Epoch 26/100\n",
            "2736/2736 [==============================] - 6s 2ms/step - loss: -0.2254 - val_loss: -0.2357\n",
            "Epoch 27/100\n",
            "2736/2736 [==============================] - 6s 2ms/step - loss: -0.2473 - val_loss: -0.2584\n",
            "Epoch 28/100\n",
            "2736/2736 [==============================] - 6s 2ms/step - loss: -0.2701 - val_loss: -0.2813\n",
            "Epoch 29/100\n",
            "2736/2736 [==============================] - 6s 2ms/step - loss: -0.2937 - val_loss: -0.3054\n",
            "Epoch 30/100\n",
            "2736/2736 [==============================] - 6s 2ms/step - loss: -0.3182 - val_loss: -0.3303\n",
            "Epoch 31/100\n",
            "2736/2736 [==============================] - 6s 2ms/step - loss: -0.3438 - val_loss: -0.3565\n",
            "Epoch 32/100\n",
            "2736/2736 [==============================] - 6s 2ms/step - loss: -0.3706 - val_loss: -0.3835\n",
            "Epoch 33/100\n",
            "2736/2736 [==============================] - 6s 2ms/step - loss: -0.3979 - val_loss: -0.4112\n",
            "Epoch 34/100\n",
            "2736/2736 [==============================] - 6s 2ms/step - loss: -0.4261 - val_loss: -0.4396\n",
            "Epoch 35/100\n",
            "2736/2736 [==============================] - 6s 2ms/step - loss: -0.4551 - val_loss: -0.4690\n",
            "Epoch 36/100\n",
            "2736/2736 [==============================] - 6s 2ms/step - loss: -0.4850 - val_loss: -0.4992\n",
            "Epoch 37/100\n",
            "2736/2736 [==============================] - 6s 2ms/step - loss: -0.5158 - val_loss: -0.5306\n",
            "Epoch 38/100\n",
            "2736/2736 [==============================] - 6s 2ms/step - loss: -0.5477 - val_loss: -0.5630\n",
            "Epoch 39/100\n",
            "2736/2736 [==============================] - 6s 2ms/step - loss: -0.5809 - val_loss: -0.5966\n",
            "Epoch 40/100\n",
            "2736/2736 [==============================] - 6s 2ms/step - loss: -0.6151 - val_loss: -0.6311\n",
            "Epoch 41/100\n",
            "2736/2736 [==============================] - 6s 2ms/step - loss: -0.6498 - val_loss: -0.6662\n",
            "Epoch 42/100\n",
            "2736/2736 [==============================] - 6s 2ms/step - loss: -0.6859 - val_loss: -0.7029\n",
            "Epoch 43/100\n",
            "2736/2736 [==============================] - 6s 2ms/step - loss: -0.7236 - val_loss: -0.7413\n",
            "Epoch 44/100\n",
            "2736/2736 [==============================] - 6s 2ms/step - loss: -0.7624 - val_loss: -0.7803\n",
            "Epoch 45/100\n",
            "2736/2736 [==============================] - 6s 2ms/step - loss: -0.8021 - val_loss: -0.8206\n",
            "Epoch 46/100\n",
            "2736/2736 [==============================] - 6s 2ms/step - loss: -0.8430 - val_loss: -0.8615\n",
            "Epoch 47/100\n",
            "2736/2736 [==============================] - 6s 2ms/step - loss: -0.8838 - val_loss: -0.9017\n",
            "Epoch 48/100\n",
            "2736/2736 [==============================] - 6s 2ms/step - loss: -0.9241 - val_loss: -0.9416\n",
            "Epoch 49/100\n",
            "2736/2736 [==============================] - 6s 2ms/step - loss: -0.9632 - val_loss: -0.9798\n",
            "Epoch 50/100\n",
            "2736/2736 [==============================] - 6s 2ms/step - loss: -1.0003 - val_loss: -1.0157\n",
            "Epoch 51/100\n",
            "2736/2736 [==============================] - 6s 2ms/step - loss: -1.0359 - val_loss: -1.0507\n",
            "Epoch 52/100\n",
            "2736/2736 [==============================] - 6s 2ms/step - loss: -1.0698 - val_loss: -1.0835\n",
            "Epoch 53/100\n",
            "2736/2736 [==============================] - 6s 2ms/step - loss: -1.1019 - val_loss: -1.1149\n",
            "Epoch 54/100\n",
            "2736/2736 [==============================] - 6s 2ms/step - loss: -1.1323 - val_loss: -1.1442\n",
            "Epoch 55/100\n",
            "2736/2736 [==============================] - 6s 2ms/step - loss: -1.1609 - val_loss: -1.1717\n",
            "Epoch 56/100\n",
            "2736/2736 [==============================] - 6s 2ms/step - loss: -1.1875 - val_loss: -1.1973\n",
            "Epoch 57/100\n",
            "2736/2736 [==============================] - 6s 2ms/step - loss: -1.2123 - val_loss: -1.2211\n",
            "Epoch 58/100\n",
            "2736/2736 [==============================] - 6s 2ms/step - loss: -1.2352 - val_loss: -1.2429\n",
            "Epoch 59/100\n",
            "2736/2736 [==============================] - 6s 2ms/step - loss: -1.2560 - val_loss: -1.2625\n",
            "Epoch 60/100\n",
            "2736/2736 [==============================] - 6s 2ms/step - loss: -1.2745 - val_loss: -1.2797\n",
            "Epoch 61/100\n",
            "2736/2736 [==============================] - 6s 2ms/step - loss: -1.2904 - val_loss: -1.2945\n",
            "Epoch 62/100\n",
            "2736/2736 [==============================] - 6s 2ms/step - loss: -1.3041 - val_loss: -1.3073\n",
            "Epoch 63/100\n",
            "2736/2736 [==============================] - 6s 2ms/step - loss: -1.3160 - val_loss: -1.3184\n",
            "Epoch 64/100\n",
            "2736/2736 [==============================] - 6s 2ms/step - loss: -1.3265 - val_loss: -1.3283\n",
            "Epoch 65/100\n",
            "2736/2736 [==============================] - 6s 2ms/step - loss: -1.3359 - val_loss: -1.3373\n",
            "Epoch 66/100\n",
            "2736/2736 [==============================] - 6s 2ms/step - loss: -1.3446 - val_loss: -1.3457\n",
            "Epoch 67/100\n",
            "2736/2736 [==============================] - 6s 2ms/step - loss: -1.3530 - val_loss: -1.3538\n",
            "Epoch 68/100\n",
            "2736/2736 [==============================] - 6s 2ms/step - loss: -1.3610 - val_loss: -1.3618\n",
            "Epoch 69/100\n",
            "2736/2736 [==============================] - 6s 2ms/step - loss: -1.3688 - val_loss: -1.3694\n",
            "Epoch 70/100\n",
            "2736/2736 [==============================] - 6s 2ms/step - loss: -1.3765 - val_loss: -1.3769\n",
            "Epoch 71/100\n",
            "2736/2736 [==============================] - 6s 2ms/step - loss: -1.3840 - val_loss: -1.3844\n",
            "Epoch 72/100\n",
            "2736/2736 [==============================] - 6s 2ms/step - loss: -1.3916 - val_loss: -1.3918\n",
            "Epoch 73/100\n",
            "2736/2736 [==============================] - 6s 2ms/step - loss: -1.3990 - val_loss: -1.3991\n",
            "Epoch 74/100\n",
            "2736/2736 [==============================] - 6s 2ms/step - loss: -1.4064 - val_loss: -1.4064\n",
            "Epoch 75/100\n",
            "2736/2736 [==============================] - 6s 2ms/step - loss: -1.4137 - val_loss: -1.4137\n",
            "Epoch 76/100\n",
            "2736/2736 [==============================] - 6s 2ms/step - loss: -1.4211 - val_loss: -1.4209\n",
            "Epoch 77/100\n",
            "2736/2736 [==============================] - 6s 2ms/step - loss: -1.4284 - val_loss: -1.4281\n",
            "Epoch 78/100\n",
            "2736/2736 [==============================] - 6s 2ms/step - loss: -1.4357 - val_loss: -1.4353\n",
            "Epoch 79/100\n",
            "2736/2736 [==============================] - 6s 2ms/step - loss: -1.4430 - val_loss: -1.4424\n",
            "Epoch 80/100\n",
            "2736/2736 [==============================] - 6s 2ms/step - loss: -1.4502 - val_loss: -1.4495\n",
            "Epoch 81/100\n",
            "2736/2736 [==============================] - 6s 2ms/step - loss: -1.4573 - val_loss: -1.4564\n",
            "Epoch 82/100\n",
            "2736/2736 [==============================] - 6s 2ms/step - loss: -1.4643 - val_loss: -1.4633\n",
            "Epoch 83/100\n",
            "2736/2736 [==============================] - 6s 2ms/step - loss: -1.4712 - val_loss: -1.4701\n",
            "Epoch 84/100\n",
            "2736/2736 [==============================] - 6s 2ms/step - loss: -1.4781 - val_loss: -1.4767\n",
            "Epoch 85/100\n",
            "2736/2736 [==============================] - 6s 2ms/step - loss: -1.4848 - val_loss: -1.4832\n",
            "Epoch 86/100\n",
            "2736/2736 [==============================] - 6s 2ms/step - loss: -1.4912 - val_loss: -1.4894\n",
            "Epoch 87/100\n",
            "2736/2736 [==============================] - 6s 2ms/step - loss: -1.4973 - val_loss: -1.4952\n",
            "Epoch 88/100\n",
            "2736/2736 [==============================] - 6s 2ms/step - loss: -1.5031 - val_loss: -1.5007\n",
            "Epoch 89/100\n",
            "2736/2736 [==============================] - 6s 2ms/step - loss: -1.5086 - val_loss: -1.5061\n",
            "Epoch 90/100\n",
            "2736/2736 [==============================] - 6s 2ms/step - loss: -1.5140 - val_loss: -1.5113\n",
            "Epoch 91/100\n",
            "2736/2736 [==============================] - 5s 2ms/step - loss: -1.5192 - val_loss: -1.5164\n",
            "Epoch 92/100\n",
            "2736/2736 [==============================] - 6s 2ms/step - loss: -1.5244 - val_loss: -1.5214\n",
            "Epoch 93/100\n",
            "2736/2736 [==============================] - 5s 2ms/step - loss: -1.5295 - val_loss: -1.5263\n"
          ],
          "name": "stdout"
        }
      ]
    },
    {
      "cell_type": "code",
      "metadata": {
        "id": "r2gHhlTEV-A5",
        "colab_type": "code",
        "colab": {}
      },
      "source": [
        "# pickle model\n",
        "import pickle\n",
        "# Its important to use binary mode \n",
        "Pickle = open('pickle_file', 'wb') \n",
        "\n",
        "# source, destination \n",
        "pickle.dump(model, Pickle)                      \n",
        "\n",
        "\n",
        "# load the model from disk\n",
        "loaded_model = pickle.load(open('pickle_file', 'rb'))"
      ],
      "execution_count": 0,
      "outputs": []
    },
    {
      "cell_type": "code",
      "metadata": {
        "id": "U1YuKHeD7LR7",
        "colab_type": "code",
        "colab": {}
      },
      "source": [
        "# def predictor(track_key):\n",
        "#     '''\n",
        "#     Function to take \"track key\" of a song of interest from dataframe, and\n",
        "#     return a list of track_ids of the closest related 10songs.\n",
        "\n",
        "#     output format:\n",
        "#   ['4fbaKWFRghusXd4bSBvvfN']\n",
        "\n",
        "#     '''\n",
        "\n",
        "#     # Convert \"track_key\" to the index of the song\n",
        "#     input_dictionary_entry = dictionary[dictionary['track_key'] == track_key]\n",
        "#     input_index = input_dictionary_entry.index[0]\n",
        "\n",
        "#     # Nearest Neighbors model\n",
        "#     nn = NearestNeighbors(n_neighbors=10, algorithm='kd_tree')\n",
        "#     nn.fit(df_s)\n",
        "\n",
        "#     neighbor_predictions = nn.kneighbors([df_s[input_index]])\n",
        "\n",
        "#     # This is a list of the INDEXES of the songs\n",
        "#     list_of_predictions = neighbor_predictions[1][0].tolist()\n",
        "\n",
        "#     similar_tracks = []\n",
        "#     for item in list_of_predictions:\n",
        "#         track_hash = dictionary['track_id'].iloc[item]\n",
        "#         similar_tracks.append(track_hash)\n",
        "\n",
        "#     return similar_tracks"
      ],
      "execution_count": 0,
      "outputs": []
    },
    {
      "cell_type": "code",
      "metadata": {
        "id": "ql8lKMtj7LUn",
        "colab_type": "code",
        "outputId": "470332d2-d042-4beb-9e57-4bbb47a77053",
        "colab": {
          "base_uri": "https://localhost:8080/",
          "height": 54
        }
      },
      "source": [
        "# # testing functionality\n",
        "# track_key = 1\n",
        "# print(predictor(track_key))"
      ],
      "execution_count": 0,
      "outputs": [
        {
          "output_type": "stream",
          "text": [
            "['2RM4jf1Xa9zPgMGRDiht8O', '02s1Voowwhr0qTSOrMVEXk', '6PIdcDdMuoyAWeVqMRMLlR', '0MiAP4EQGIuikH23RTyP53', '2lD4dQpcac8H2Rq5nttJJh', '07lPxulz2gpCAVvgemzedl', '5MccaBOgJh4MsJNoj72eij', '3QBTZEqaCbJxztWh5NTKHs', '6yoM6KoDpWXKIWo9UnZ3Ef', '7Jbt6KWzS8cpP1xnW0tQ96']\n"
          ],
          "name": "stdout"
        }
      ]
    },
    {
      "cell_type": "code",
      "metadata": {
        "id": "Yjpcadau-hSe",
        "colab_type": "code",
        "colab": {}
      },
      "source": [
        "# # song features, for plotting\n",
        "# def feature_average(track_key):\n",
        "#     '''\n",
        "#     This function returns the sum of the features for the ten recommended songs.\n",
        "#     '''\n",
        "#     similar_tracks = predictor(track_key)\n",
        "#     # Return a dataframe with only the ten most similar tracks\n",
        "#     similar_tracks = data[data[\"track_id\"].isin(similar_tracks)]\n",
        "#     similar_tracks = similar_tracks[['acousticness', 'danceability',\n",
        "#                                      'energy', 'instrumentalness',\n",
        "#                                      'liveness', 'mode',\n",
        "#                                      'speechiness', 'valence']]\n",
        "#     # Average features of ten tracks\n",
        "#     acousticness = round(similar_tracks['acousticness'].mean(), 2)\n",
        "#     danceability = round(similar_tracks['danceability'].mean(), 2)\n",
        "#     energy = round(similar_tracks['energy'].mean(), 2)\n",
        "#     instrumentalness = round(similar_tracks['instrumentalness'].mean(), 2)\n",
        "#     liveness = round(similar_tracks['liveness'].mean(), 2)\n",
        "#     mode = round(similar_tracks['mode'].mean(), 2)\n",
        "#     speechiness = round(similar_tracks['speechiness'].mean(), 2)\n",
        "#     valence = round(similar_tracks['valence'].mean(), 2)\n",
        "#     # Store all to \"features\" variable\n",
        "#     features = []\n",
        "#     attributes = [\n",
        "#         acousticness,\n",
        "#         danceability,\n",
        "#         energy,\n",
        "#         instrumentalness,\n",
        "#         liveness,\n",
        "#         mode,\n",
        "#         speechiness,\n",
        "#         valence]\n",
        "#     # features.append(acousticness)\n",
        "#     for attribute in attributes:\n",
        "#         features.append(attribute)\n",
        "#     return features"
      ],
      "execution_count": 0,
      "outputs": []
    },
    {
      "cell_type": "code",
      "metadata": {
        "id": "mSrahSpg-lba",
        "colab_type": "code",
        "outputId": "4cf2db17-67a3-4de5-f4ad-cdd221e1ca6c",
        "colab": {
          "base_uri": "https://localhost:8080/",
          "height": 34
        }
      },
      "source": [
        "# # testing functionality\n",
        "# print(feature_average(track_key))"
      ],
      "execution_count": 0,
      "outputs": [
        {
          "output_type": "stream",
          "text": [
            "[0.06, 0.73, 0.42, 0.0, 0.12, 1.0, 0.41, 0.25]\n"
          ],
          "name": "stdout"
        }
      ]
    },
    {
      "cell_type": "code",
      "metadata": {
        "id": "hMI5edr9_xoc",
        "colab_type": "code",
        "outputId": "fbac42d4-3c37-4e31-a5da-3079870b3d54",
        "colab": {
          "base_uri": "https://localhost:8080/",
          "height": 34
        }
      },
      "source": [
        "# type(feature_average(track_key))"
      ],
      "execution_count": 0,
      "outputs": [
        {
          "output_type": "execute_result",
          "data": {
            "text/plain": [
              "list"
            ]
          },
          "metadata": {
            "tags": []
          },
          "execution_count": 52
        }
      ]
    },
    {
      "cell_type": "code",
      "metadata": {
        "id": "WUKT49dO-leU",
        "colab_type": "code",
        "outputId": "1e41d2df-a3de-4355-d0ca-071e990b4f5b",
        "colab": {
          "base_uri": "https://localhost:8080/",
          "height": 542
        }
      },
      "source": [
        "# plotply radar-chart (https://plotly.com/python/radar-chart/)\n",
        "import plotly.express as px\n",
        "import pandas as pd\n",
        "\n",
        "r =feature_average(track_key)\n",
        "\n",
        "attributes = [\n",
        "        'acousticness',\n",
        "        'danceability',\n",
        "        'energy',\n",
        "        'instrumentalness',\n",
        "        'liveness',\n",
        "        'mode',\n",
        "        'speechiness',\n",
        "        'valence']\n",
        "\n",
        "fig = px.line_polar(r=r, theta=attributes, line_close=True)\n",
        "fig.update_traces(fill='toself')\n",
        "fig.show()"
      ],
      "execution_count": 0,
      "outputs": [
        {
          "output_type": "display_data",
          "data": {
            "text/html": [
              "<html>\n",
              "<head><meta charset=\"utf-8\" /></head>\n",
              "<body>\n",
              "    <div>\n",
              "            <script src=\"https://cdnjs.cloudflare.com/ajax/libs/mathjax/2.7.5/MathJax.js?config=TeX-AMS-MML_SVG\"></script><script type=\"text/javascript\">if (window.MathJax) {MathJax.Hub.Config({SVG: {font: \"STIX-Web\"}});}</script>\n",
              "                <script type=\"text/javascript\">window.PlotlyConfig = {MathJaxConfig: 'local'};</script>\n",
              "        <script src=\"https://cdn.plot.ly/plotly-latest.min.js\"></script>    \n",
              "            <div id=\"e9c37fdc-07fd-469f-a235-f3bee8cd9d70\" class=\"plotly-graph-div\" style=\"height:525px; width:100%;\"></div>\n",
              "            <script type=\"text/javascript\">\n",
              "                \n",
              "                    window.PLOTLYENV=window.PLOTLYENV || {};\n",
              "                    \n",
              "                if (document.getElementById(\"e9c37fdc-07fd-469f-a235-f3bee8cd9d70\")) {\n",
              "                    Plotly.newPlot(\n",
              "                        'e9c37fdc-07fd-469f-a235-f3bee8cd9d70',\n",
              "                        [{\"fill\": \"toself\", \"hoverlabel\": {\"namelength\": 0}, \"hovertemplate\": \"r=%{r}<br>theta=%{theta}\", \"legendgroup\": \"\", \"line\": {\"color\": \"#636efa\", \"dash\": \"solid\"}, \"mode\": \"lines\", \"name\": \"\", \"r\": [0.06, 0.73, 0.42, 0.0, 0.12, 1.0, 0.41, 0.25, 0.06], \"showlegend\": false, \"subplot\": \"polar\", \"theta\": [\"acousticness\", \"danceability\", \"energy\", \"instrumentalness\", \"liveness\", \"mode\", \"speechiness\", \"valence\", \"acousticness\"], \"type\": \"scatterpolar\"}],\n",
              "                        {\"legend\": {\"tracegroupgap\": 0}, \"margin\": {\"t\": 60}, \"polar\": {\"angularaxis\": {\"direction\": \"clockwise\", \"rotation\": 90}, \"domain\": {\"x\": [0.0, 1.0], \"y\": [0.0, 1.0]}}, \"template\": {\"data\": {\"bar\": [{\"error_x\": {\"color\": \"#2a3f5f\"}, \"error_y\": {\"color\": \"#2a3f5f\"}, \"marker\": {\"line\": {\"color\": \"#E5ECF6\", \"width\": 0.5}}, \"type\": \"bar\"}], \"barpolar\": [{\"marker\": {\"line\": {\"color\": \"#E5ECF6\", \"width\": 0.5}}, \"type\": \"barpolar\"}], \"carpet\": [{\"aaxis\": {\"endlinecolor\": \"#2a3f5f\", \"gridcolor\": \"white\", \"linecolor\": \"white\", \"minorgridcolor\": \"white\", \"startlinecolor\": \"#2a3f5f\"}, \"baxis\": {\"endlinecolor\": \"#2a3f5f\", \"gridcolor\": \"white\", \"linecolor\": \"white\", \"minorgridcolor\": \"white\", \"startlinecolor\": \"#2a3f5f\"}, \"type\": \"carpet\"}], \"choropleth\": [{\"colorbar\": {\"outlinewidth\": 0, \"ticks\": \"\"}, \"type\": \"choropleth\"}], \"contour\": [{\"colorbar\": {\"outlinewidth\": 0, \"ticks\": \"\"}, \"colorscale\": [[0.0, \"#0d0887\"], [0.1111111111111111, \"#46039f\"], [0.2222222222222222, \"#7201a8\"], [0.3333333333333333, \"#9c179e\"], [0.4444444444444444, \"#bd3786\"], [0.5555555555555556, \"#d8576b\"], [0.6666666666666666, \"#ed7953\"], [0.7777777777777778, \"#fb9f3a\"], [0.8888888888888888, \"#fdca26\"], [1.0, \"#f0f921\"]], \"type\": \"contour\"}], \"contourcarpet\": [{\"colorbar\": {\"outlinewidth\": 0, \"ticks\": \"\"}, \"type\": \"contourcarpet\"}], \"heatmap\": [{\"colorbar\": {\"outlinewidth\": 0, \"ticks\": \"\"}, \"colorscale\": [[0.0, \"#0d0887\"], [0.1111111111111111, \"#46039f\"], [0.2222222222222222, \"#7201a8\"], [0.3333333333333333, \"#9c179e\"], [0.4444444444444444, \"#bd3786\"], [0.5555555555555556, \"#d8576b\"], [0.6666666666666666, \"#ed7953\"], [0.7777777777777778, \"#fb9f3a\"], [0.8888888888888888, \"#fdca26\"], [1.0, \"#f0f921\"]], \"type\": \"heatmap\"}], \"heatmapgl\": [{\"colorbar\": {\"outlinewidth\": 0, \"ticks\": \"\"}, \"colorscale\": [[0.0, \"#0d0887\"], [0.1111111111111111, \"#46039f\"], [0.2222222222222222, \"#7201a8\"], [0.3333333333333333, \"#9c179e\"], [0.4444444444444444, \"#bd3786\"], [0.5555555555555556, \"#d8576b\"], [0.6666666666666666, \"#ed7953\"], [0.7777777777777778, \"#fb9f3a\"], [0.8888888888888888, \"#fdca26\"], [1.0, \"#f0f921\"]], \"type\": \"heatmapgl\"}], \"histogram\": [{\"marker\": {\"colorbar\": {\"outlinewidth\": 0, \"ticks\": \"\"}}, \"type\": \"histogram\"}], \"histogram2d\": [{\"colorbar\": {\"outlinewidth\": 0, \"ticks\": \"\"}, \"colorscale\": [[0.0, \"#0d0887\"], [0.1111111111111111, \"#46039f\"], [0.2222222222222222, \"#7201a8\"], [0.3333333333333333, \"#9c179e\"], [0.4444444444444444, \"#bd3786\"], [0.5555555555555556, \"#d8576b\"], [0.6666666666666666, \"#ed7953\"], [0.7777777777777778, \"#fb9f3a\"], [0.8888888888888888, \"#fdca26\"], [1.0, \"#f0f921\"]], \"type\": \"histogram2d\"}], \"histogram2dcontour\": [{\"colorbar\": {\"outlinewidth\": 0, \"ticks\": \"\"}, \"colorscale\": [[0.0, \"#0d0887\"], [0.1111111111111111, \"#46039f\"], [0.2222222222222222, \"#7201a8\"], [0.3333333333333333, \"#9c179e\"], [0.4444444444444444, \"#bd3786\"], [0.5555555555555556, \"#d8576b\"], [0.6666666666666666, \"#ed7953\"], [0.7777777777777778, \"#fb9f3a\"], [0.8888888888888888, \"#fdca26\"], [1.0, \"#f0f921\"]], \"type\": \"histogram2dcontour\"}], \"mesh3d\": [{\"colorbar\": {\"outlinewidth\": 0, \"ticks\": \"\"}, \"type\": \"mesh3d\"}], \"parcoords\": [{\"line\": {\"colorbar\": {\"outlinewidth\": 0, \"ticks\": \"\"}}, \"type\": \"parcoords\"}], \"pie\": [{\"automargin\": true, \"type\": \"pie\"}], \"scatter\": [{\"marker\": {\"colorbar\": {\"outlinewidth\": 0, \"ticks\": \"\"}}, \"type\": \"scatter\"}], \"scatter3d\": [{\"line\": {\"colorbar\": {\"outlinewidth\": 0, \"ticks\": \"\"}}, \"marker\": {\"colorbar\": {\"outlinewidth\": 0, \"ticks\": \"\"}}, \"type\": \"scatter3d\"}], \"scattercarpet\": [{\"marker\": {\"colorbar\": {\"outlinewidth\": 0, \"ticks\": \"\"}}, \"type\": \"scattercarpet\"}], \"scattergeo\": [{\"marker\": {\"colorbar\": {\"outlinewidth\": 0, \"ticks\": \"\"}}, \"type\": \"scattergeo\"}], \"scattergl\": [{\"marker\": {\"colorbar\": {\"outlinewidth\": 0, \"ticks\": \"\"}}, \"type\": \"scattergl\"}], \"scattermapbox\": [{\"marker\": {\"colorbar\": {\"outlinewidth\": 0, \"ticks\": \"\"}}, \"type\": \"scattermapbox\"}], \"scatterpolar\": [{\"marker\": {\"colorbar\": {\"outlinewidth\": 0, \"ticks\": \"\"}}, \"type\": \"scatterpolar\"}], \"scatterpolargl\": [{\"marker\": {\"colorbar\": {\"outlinewidth\": 0, \"ticks\": \"\"}}, \"type\": \"scatterpolargl\"}], \"scatterternary\": [{\"marker\": {\"colorbar\": {\"outlinewidth\": 0, \"ticks\": \"\"}}, \"type\": \"scatterternary\"}], \"surface\": [{\"colorbar\": {\"outlinewidth\": 0, \"ticks\": \"\"}, \"colorscale\": [[0.0, \"#0d0887\"], [0.1111111111111111, \"#46039f\"], [0.2222222222222222, \"#7201a8\"], [0.3333333333333333, \"#9c179e\"], [0.4444444444444444, \"#bd3786\"], [0.5555555555555556, \"#d8576b\"], [0.6666666666666666, \"#ed7953\"], [0.7777777777777778, \"#fb9f3a\"], [0.8888888888888888, \"#fdca26\"], [1.0, \"#f0f921\"]], \"type\": \"surface\"}], \"table\": [{\"cells\": {\"fill\": {\"color\": \"#EBF0F8\"}, \"line\": {\"color\": \"white\"}}, \"header\": {\"fill\": {\"color\": \"#C8D4E3\"}, \"line\": {\"color\": \"white\"}}, \"type\": \"table\"}]}, \"layout\": {\"annotationdefaults\": {\"arrowcolor\": \"#2a3f5f\", \"arrowhead\": 0, \"arrowwidth\": 1}, \"coloraxis\": {\"colorbar\": {\"outlinewidth\": 0, \"ticks\": \"\"}}, \"colorscale\": {\"diverging\": [[0, \"#8e0152\"], [0.1, \"#c51b7d\"], [0.2, \"#de77ae\"], [0.3, \"#f1b6da\"], [0.4, \"#fde0ef\"], [0.5, \"#f7f7f7\"], [0.6, \"#e6f5d0\"], [0.7, \"#b8e186\"], [0.8, \"#7fbc41\"], [0.9, \"#4d9221\"], [1, \"#276419\"]], \"sequential\": [[0.0, \"#0d0887\"], [0.1111111111111111, \"#46039f\"], [0.2222222222222222, \"#7201a8\"], [0.3333333333333333, \"#9c179e\"], [0.4444444444444444, \"#bd3786\"], [0.5555555555555556, \"#d8576b\"], [0.6666666666666666, \"#ed7953\"], [0.7777777777777778, \"#fb9f3a\"], [0.8888888888888888, \"#fdca26\"], [1.0, \"#f0f921\"]], \"sequentialminus\": [[0.0, \"#0d0887\"], [0.1111111111111111, \"#46039f\"], [0.2222222222222222, \"#7201a8\"], [0.3333333333333333, \"#9c179e\"], [0.4444444444444444, \"#bd3786\"], [0.5555555555555556, \"#d8576b\"], [0.6666666666666666, \"#ed7953\"], [0.7777777777777778, \"#fb9f3a\"], [0.8888888888888888, \"#fdca26\"], [1.0, \"#f0f921\"]]}, \"colorway\": [\"#636efa\", \"#EF553B\", \"#00cc96\", \"#ab63fa\", \"#FFA15A\", \"#19d3f3\", \"#FF6692\", \"#B6E880\", \"#FF97FF\", \"#FECB52\"], \"font\": {\"color\": \"#2a3f5f\"}, \"geo\": {\"bgcolor\": \"white\", \"lakecolor\": \"white\", \"landcolor\": \"#E5ECF6\", \"showlakes\": true, \"showland\": true, \"subunitcolor\": \"white\"}, \"hoverlabel\": {\"align\": \"left\"}, \"hovermode\": \"closest\", \"mapbox\": {\"style\": \"light\"}, \"paper_bgcolor\": \"white\", \"plot_bgcolor\": \"#E5ECF6\", \"polar\": {\"angularaxis\": {\"gridcolor\": \"white\", \"linecolor\": \"white\", \"ticks\": \"\"}, \"bgcolor\": \"#E5ECF6\", \"radialaxis\": {\"gridcolor\": \"white\", \"linecolor\": \"white\", \"ticks\": \"\"}}, \"scene\": {\"xaxis\": {\"backgroundcolor\": \"#E5ECF6\", \"gridcolor\": \"white\", \"gridwidth\": 2, \"linecolor\": \"white\", \"showbackground\": true, \"ticks\": \"\", \"zerolinecolor\": \"white\"}, \"yaxis\": {\"backgroundcolor\": \"#E5ECF6\", \"gridcolor\": \"white\", \"gridwidth\": 2, \"linecolor\": \"white\", \"showbackground\": true, \"ticks\": \"\", \"zerolinecolor\": \"white\"}, \"zaxis\": {\"backgroundcolor\": \"#E5ECF6\", \"gridcolor\": \"white\", \"gridwidth\": 2, \"linecolor\": \"white\", \"showbackground\": true, \"ticks\": \"\", \"zerolinecolor\": \"white\"}}, \"shapedefaults\": {\"line\": {\"color\": \"#2a3f5f\"}}, \"ternary\": {\"aaxis\": {\"gridcolor\": \"white\", \"linecolor\": \"white\", \"ticks\": \"\"}, \"baxis\": {\"gridcolor\": \"white\", \"linecolor\": \"white\", \"ticks\": \"\"}, \"bgcolor\": \"#E5ECF6\", \"caxis\": {\"gridcolor\": \"white\", \"linecolor\": \"white\", \"ticks\": \"\"}}, \"title\": {\"x\": 0.05}, \"xaxis\": {\"automargin\": true, \"gridcolor\": \"white\", \"linecolor\": \"white\", \"ticks\": \"\", \"title\": {\"standoff\": 15}, \"zerolinecolor\": \"white\", \"zerolinewidth\": 2}, \"yaxis\": {\"automargin\": true, \"gridcolor\": \"white\", \"linecolor\": \"white\", \"ticks\": \"\", \"title\": {\"standoff\": 15}, \"zerolinecolor\": \"white\", \"zerolinewidth\": 2}}}},\n",
              "                        {\"responsive\": true}\n",
              "                    ).then(function(){\n",
              "                            \n",
              "var gd = document.getElementById('e9c37fdc-07fd-469f-a235-f3bee8cd9d70');\n",
              "var x = new MutationObserver(function (mutations, observer) {{\n",
              "        var display = window.getComputedStyle(gd).display;\n",
              "        if (!display || display === 'none') {{\n",
              "            console.log([gd, 'removed!']);\n",
              "            Plotly.purge(gd);\n",
              "            observer.disconnect();\n",
              "        }}\n",
              "}});\n",
              "\n",
              "// Listen for the removal of the full notebook cells\n",
              "var notebookContainer = gd.closest('#notebook-container');\n",
              "if (notebookContainer) {{\n",
              "    x.observe(notebookContainer, {childList: true});\n",
              "}}\n",
              "\n",
              "// Listen for the clearing of the current output cell\n",
              "var outputEl = gd.closest('.output');\n",
              "if (outputEl) {{\n",
              "    x.observe(outputEl, {childList: true});\n",
              "}}\n",
              "\n",
              "                        })\n",
              "                };\n",
              "                \n",
              "            </script>\n",
              "        </div>\n",
              "</body>\n",
              "</html>"
            ]
          },
          "metadata": {
            "tags": []
          }
        }
      ]
    }
  ]
}