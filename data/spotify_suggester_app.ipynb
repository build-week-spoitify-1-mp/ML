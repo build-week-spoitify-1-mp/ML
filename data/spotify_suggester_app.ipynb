{
  "nbformat": 4,
  "nbformat_minor": 0,
  "metadata": {
    "colab": {
      "name": "spotify_suggester_app.ipynb",
      "provenance": [],
      "collapsed_sections": []
    },
    "kernelspec": {
      "name": "python3",
      "display_name": "Python 3"
    },
    "accelerator": "GPU"
  },
  "cells": [
    {
      "cell_type": "code",
      "metadata": {
        "id": "t7bJSTHu44LE",
        "colab_type": "code",
        "colab": {}
      },
      "source": [
        "import pandas as pd"
      ],
      "execution_count": 1,
      "outputs": []
    },
    {
      "cell_type": "markdown",
      "metadata": {
        "id": "wkiS_pPUI4rQ",
        "colab_type": "text"
      },
      "source": [
        "# Load and Read In Dataframes"
      ]
    },
    {
      "cell_type": "code",
      "metadata": {
        "id": "VPuE97wW5H3g",
        "colab_type": "code",
        "colab": {
          "resources": {
            "http://localhost:8080/nbextensions/google.colab/files.js": {
              "data": "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",
              "ok": true,
              "headers": [
                [
                  "content-type",
                  "application/javascript"
                ]
              ],
              "status": 200,
              "status_text": ""
            }
          },
          "base_uri": "https://localhost:8080/",
          "height": 72
        },
        "outputId": "7f82e7b8-51bd-4e87-d87a-c86c3b084665"
      },
      "source": [
        "from google.colab import files\n",
        "uploaded = files.upload()"
      ],
      "execution_count": 5,
      "outputs": [
        {
          "output_type": "display_data",
          "data": {
            "text/html": [
              "\n",
              "     <input type=\"file\" id=\"files-e6db710e-6c72-4365-a3f7-ca3abd53d8c1\" name=\"files[]\" multiple disabled\n",
              "        style=\"border:none\" />\n",
              "     <output id=\"result-e6db710e-6c72-4365-a3f7-ca3abd53d8c1\">\n",
              "      Upload widget is only available when the cell has been executed in the\n",
              "      current browser session. Please rerun this cell to enable.\n",
              "      </output>\n",
              "      <script src=\"/nbextensions/google.colab/files.js\"></script> "
            ],
            "text/plain": [
              "<IPython.core.display.HTML object>"
            ]
          },
          "metadata": {
            "tags": []
          }
        },
        {
          "output_type": "stream",
          "text": [
            "Saving SpotifyFeatures.csv to SpotifyFeatures.csv\n"
          ],
          "name": "stdout"
        }
      ]
    },
    {
      "cell_type": "code",
      "metadata": {
        "id": "HsccKLCF5MGY",
        "colab_type": "code",
        "colab": {}
      },
      "source": [
        "df1 = pd.read_csv('base_api_df (7).csv')\n",
        "df2 = pd.read_csv('data-2.csv')\n",
        "df3 = pd.read_csv('featuresdf.csv')\n",
        "df4 = pd.read_csv('SpotifyFeatures.csv')"
      ],
      "execution_count": 6,
      "outputs": []
    },
    {
      "cell_type": "markdown",
      "metadata": {
        "id": "6PVPdFsFI8lU",
        "colab_type": "text"
      },
      "source": [
        "# Cut Dataframes Down to Track Ids and Music Features"
      ]
    },
    {
      "cell_type": "code",
      "metadata": {
        "id": "upRfWCIWE9Px",
        "colab_type": "code",
        "colab": {
          "base_uri": "https://localhost:8080/",
          "height": 134
        },
        "outputId": "907bfbc1-bafe-4f1d-88e2-64618f6afbf6"
      },
      "source": [
        "df1.head(1)"
      ],
      "execution_count": 7,
      "outputs": [
        {
          "output_type": "execute_result",
          "data": {
            "text/html": [
              "<div>\n",
              "<style scoped>\n",
              "    .dataframe tbody tr th:only-of-type {\n",
              "        vertical-align: middle;\n",
              "    }\n",
              "\n",
              "    .dataframe tbody tr th {\n",
              "        vertical-align: top;\n",
              "    }\n",
              "\n",
              "    .dataframe thead th {\n",
              "        text-align: right;\n",
              "    }\n",
              "</style>\n",
              "<table border=\"1\" class=\"dataframe\">\n",
              "  <thead>\n",
              "    <tr style=\"text-align: right;\">\n",
              "      <th></th>\n",
              "      <th>artists</th>\n",
              "      <th>tracks</th>\n",
              "      <th>tracks_id</th>\n",
              "      <th>albums</th>\n",
              "      <th>danceability</th>\n",
              "      <th>energy</th>\n",
              "      <th>loudness</th>\n",
              "      <th>speechiness</th>\n",
              "      <th>acousticness</th>\n",
              "      <th>instrumentalness</th>\n",
              "      <th>liveness</th>\n",
              "      <th>valence</th>\n",
              "      <th>tempo</th>\n",
              "    </tr>\n",
              "  </thead>\n",
              "  <tbody>\n",
              "    <tr>\n",
              "      <th>0</th>\n",
              "      <td>DJ Shadow</td>\n",
              "      <td>Nobody Speak</td>\n",
              "      <td>2A9rFFPwsnhusCh8ZMBvYY</td>\n",
              "      <td>The Mountain Will Fall</td>\n",
              "      <td>0.621</td>\n",
              "      <td>0.814</td>\n",
              "      <td>-5.937</td>\n",
              "      <td>0.154</td>\n",
              "      <td>0.0405</td>\n",
              "      <td>0.00274</td>\n",
              "      <td>0.263</td>\n",
              "      <td>0.304</td>\n",
              "      <td>160.066</td>\n",
              "    </tr>\n",
              "  </tbody>\n",
              "</table>\n",
              "</div>"
            ],
            "text/plain": [
              "     artists        tracks               tracks_id  ... liveness  valence    tempo\n",
              "0  DJ Shadow  Nobody Speak  2A9rFFPwsnhusCh8ZMBvYY  ...    0.263    0.304  160.066\n",
              "\n",
              "[1 rows x 13 columns]"
            ]
          },
          "metadata": {
            "tags": []
          },
          "execution_count": 7
        }
      ]
    },
    {
      "cell_type": "code",
      "metadata": {
        "id": "AgnUDMKLGBoq",
        "colab_type": "code",
        "colab": {
          "base_uri": "https://localhost:8080/",
          "height": 80
        },
        "outputId": "29bb4e4d-111c-441d-db95-8a0d09edc88f"
      },
      "source": [
        "df1 = df1.drop(columns=['albums', 'artists', 'tracks'])\n",
        "df1.head(1)"
      ],
      "execution_count": 8,
      "outputs": [
        {
          "output_type": "execute_result",
          "data": {
            "text/html": [
              "<div>\n",
              "<style scoped>\n",
              "    .dataframe tbody tr th:only-of-type {\n",
              "        vertical-align: middle;\n",
              "    }\n",
              "\n",
              "    .dataframe tbody tr th {\n",
              "        vertical-align: top;\n",
              "    }\n",
              "\n",
              "    .dataframe thead th {\n",
              "        text-align: right;\n",
              "    }\n",
              "</style>\n",
              "<table border=\"1\" class=\"dataframe\">\n",
              "  <thead>\n",
              "    <tr style=\"text-align: right;\">\n",
              "      <th></th>\n",
              "      <th>tracks_id</th>\n",
              "      <th>danceability</th>\n",
              "      <th>energy</th>\n",
              "      <th>loudness</th>\n",
              "      <th>speechiness</th>\n",
              "      <th>acousticness</th>\n",
              "      <th>instrumentalness</th>\n",
              "      <th>liveness</th>\n",
              "      <th>valence</th>\n",
              "      <th>tempo</th>\n",
              "    </tr>\n",
              "  </thead>\n",
              "  <tbody>\n",
              "    <tr>\n",
              "      <th>0</th>\n",
              "      <td>2A9rFFPwsnhusCh8ZMBvYY</td>\n",
              "      <td>0.621</td>\n",
              "      <td>0.814</td>\n",
              "      <td>-5.937</td>\n",
              "      <td>0.154</td>\n",
              "      <td>0.0405</td>\n",
              "      <td>0.00274</td>\n",
              "      <td>0.263</td>\n",
              "      <td>0.304</td>\n",
              "      <td>160.066</td>\n",
              "    </tr>\n",
              "  </tbody>\n",
              "</table>\n",
              "</div>"
            ],
            "text/plain": [
              "                tracks_id  danceability  energy  ...  liveness  valence    tempo\n",
              "0  2A9rFFPwsnhusCh8ZMBvYY         0.621   0.814  ...     0.263    0.304  160.066\n",
              "\n",
              "[1 rows x 10 columns]"
            ]
          },
          "metadata": {
            "tags": []
          },
          "execution_count": 8
        }
      ]
    },
    {
      "cell_type": "code",
      "metadata": {
        "id": "-RZBRPBGGb81",
        "colab_type": "code",
        "colab": {
          "base_uri": "https://localhost:8080/",
          "height": 134
        },
        "outputId": "9fbf2c10-f04c-4636-bd02-0e58881bdf7b"
      },
      "source": [
        "df2.head(1)"
      ],
      "execution_count": 9,
      "outputs": [
        {
          "output_type": "execute_result",
          "data": {
            "text/html": [
              "<div>\n",
              "<style scoped>\n",
              "    .dataframe tbody tr th:only-of-type {\n",
              "        vertical-align: middle;\n",
              "    }\n",
              "\n",
              "    .dataframe tbody tr th {\n",
              "        vertical-align: top;\n",
              "    }\n",
              "\n",
              "    .dataframe thead th {\n",
              "        text-align: right;\n",
              "    }\n",
              "</style>\n",
              "<table border=\"1\" class=\"dataframe\">\n",
              "  <thead>\n",
              "    <tr style=\"text-align: right;\">\n",
              "      <th></th>\n",
              "      <th>acousticness</th>\n",
              "      <th>artists</th>\n",
              "      <th>danceability</th>\n",
              "      <th>duration_ms</th>\n",
              "      <th>energy</th>\n",
              "      <th>explicit</th>\n",
              "      <th>id</th>\n",
              "      <th>instrumentalness</th>\n",
              "      <th>key</th>\n",
              "      <th>liveness</th>\n",
              "      <th>loudness</th>\n",
              "      <th>mode</th>\n",
              "      <th>name</th>\n",
              "      <th>popularity</th>\n",
              "      <th>release_date</th>\n",
              "      <th>speechiness</th>\n",
              "      <th>tempo</th>\n",
              "      <th>valence</th>\n",
              "      <th>year</th>\n",
              "    </tr>\n",
              "  </thead>\n",
              "  <tbody>\n",
              "    <tr>\n",
              "      <th>0</th>\n",
              "      <td>0.995</td>\n",
              "      <td>['Carl Woitschach']</td>\n",
              "      <td>0.708</td>\n",
              "      <td>158648</td>\n",
              "      <td>0.195</td>\n",
              "      <td>0</td>\n",
              "      <td>6KbQ3uYMLKb5jDxLF7wYDD</td>\n",
              "      <td>0.563</td>\n",
              "      <td>10</td>\n",
              "      <td>0.151</td>\n",
              "      <td>-12.428</td>\n",
              "      <td>1</td>\n",
              "      <td>Singende Bataillone 1. Teil</td>\n",
              "      <td>0</td>\n",
              "      <td>1928</td>\n",
              "      <td>0.0506</td>\n",
              "      <td>118.469</td>\n",
              "      <td>0.779</td>\n",
              "      <td>1928</td>\n",
              "    </tr>\n",
              "  </tbody>\n",
              "</table>\n",
              "</div>"
            ],
            "text/plain": [
              "   acousticness              artists  danceability  ...    tempo  valence  year\n",
              "0         0.995  ['Carl Woitschach']         0.708  ...  118.469    0.779  1928\n",
              "\n",
              "[1 rows x 19 columns]"
            ]
          },
          "metadata": {
            "tags": []
          },
          "execution_count": 9
        }
      ]
    },
    {
      "cell_type": "code",
      "metadata": {
        "id": "xopmEIx0GjVL",
        "colab_type": "code",
        "colab": {
          "base_uri": "https://localhost:8080/",
          "height": 80
        },
        "outputId": "463c1c38-38de-4437-bf03-43e0f093f162"
      },
      "source": [
        "df2 = df2.drop(columns=['explicit', 'key', 'popularity', 'release_date', 'year', 'artists', 'duration_ms', 'name', 'mode'])\n",
        "df2.head(1)"
      ],
      "execution_count": 10,
      "outputs": [
        {
          "output_type": "execute_result",
          "data": {
            "text/html": [
              "<div>\n",
              "<style scoped>\n",
              "    .dataframe tbody tr th:only-of-type {\n",
              "        vertical-align: middle;\n",
              "    }\n",
              "\n",
              "    .dataframe tbody tr th {\n",
              "        vertical-align: top;\n",
              "    }\n",
              "\n",
              "    .dataframe thead th {\n",
              "        text-align: right;\n",
              "    }\n",
              "</style>\n",
              "<table border=\"1\" class=\"dataframe\">\n",
              "  <thead>\n",
              "    <tr style=\"text-align: right;\">\n",
              "      <th></th>\n",
              "      <th>acousticness</th>\n",
              "      <th>danceability</th>\n",
              "      <th>energy</th>\n",
              "      <th>id</th>\n",
              "      <th>instrumentalness</th>\n",
              "      <th>liveness</th>\n",
              "      <th>loudness</th>\n",
              "      <th>speechiness</th>\n",
              "      <th>tempo</th>\n",
              "      <th>valence</th>\n",
              "    </tr>\n",
              "  </thead>\n",
              "  <tbody>\n",
              "    <tr>\n",
              "      <th>0</th>\n",
              "      <td>0.995</td>\n",
              "      <td>0.708</td>\n",
              "      <td>0.195</td>\n",
              "      <td>6KbQ3uYMLKb5jDxLF7wYDD</td>\n",
              "      <td>0.563</td>\n",
              "      <td>0.151</td>\n",
              "      <td>-12.428</td>\n",
              "      <td>0.0506</td>\n",
              "      <td>118.469</td>\n",
              "      <td>0.779</td>\n",
              "    </tr>\n",
              "  </tbody>\n",
              "</table>\n",
              "</div>"
            ],
            "text/plain": [
              "   acousticness  danceability  energy  ... speechiness    tempo  valence\n",
              "0         0.995         0.708   0.195  ...      0.0506  118.469    0.779\n",
              "\n",
              "[1 rows x 10 columns]"
            ]
          },
          "metadata": {
            "tags": []
          },
          "execution_count": 10
        }
      ]
    },
    {
      "cell_type": "code",
      "metadata": {
        "id": "2UZOxvmlG13m",
        "colab_type": "code",
        "colab": {
          "base_uri": "https://localhost:8080/",
          "height": 117
        },
        "outputId": "f3d5a8d0-ae13-4215-f465-d031d23db8dc"
      },
      "source": [
        "df3.head(1)"
      ],
      "execution_count": 11,
      "outputs": [
        {
          "output_type": "execute_result",
          "data": {
            "text/html": [
              "<div>\n",
              "<style scoped>\n",
              "    .dataframe tbody tr th:only-of-type {\n",
              "        vertical-align: middle;\n",
              "    }\n",
              "\n",
              "    .dataframe tbody tr th {\n",
              "        vertical-align: top;\n",
              "    }\n",
              "\n",
              "    .dataframe thead th {\n",
              "        text-align: right;\n",
              "    }\n",
              "</style>\n",
              "<table border=\"1\" class=\"dataframe\">\n",
              "  <thead>\n",
              "    <tr style=\"text-align: right;\">\n",
              "      <th></th>\n",
              "      <th>id</th>\n",
              "      <th>name</th>\n",
              "      <th>artists</th>\n",
              "      <th>danceability</th>\n",
              "      <th>energy</th>\n",
              "      <th>key</th>\n",
              "      <th>loudness</th>\n",
              "      <th>mode</th>\n",
              "      <th>speechiness</th>\n",
              "      <th>acousticness</th>\n",
              "      <th>instrumentalness</th>\n",
              "      <th>liveness</th>\n",
              "      <th>valence</th>\n",
              "      <th>tempo</th>\n",
              "      <th>duration_ms</th>\n",
              "      <th>time_signature</th>\n",
              "    </tr>\n",
              "  </thead>\n",
              "  <tbody>\n",
              "    <tr>\n",
              "      <th>0</th>\n",
              "      <td>7qiZfU4dY1lWllzX7mPBI</td>\n",
              "      <td>Shape of You</td>\n",
              "      <td>Ed Sheeran</td>\n",
              "      <td>0.825</td>\n",
              "      <td>0.652</td>\n",
              "      <td>1.0</td>\n",
              "      <td>-3.183</td>\n",
              "      <td>0.0</td>\n",
              "      <td>0.0802</td>\n",
              "      <td>0.581</td>\n",
              "      <td>0.0</td>\n",
              "      <td>0.0931</td>\n",
              "      <td>0.931</td>\n",
              "      <td>95.977</td>\n",
              "      <td>233713.0</td>\n",
              "      <td>4.0</td>\n",
              "    </tr>\n",
              "  </tbody>\n",
              "</table>\n",
              "</div>"
            ],
            "text/plain": [
              "                      id          name  ... duration_ms  time_signature\n",
              "0  7qiZfU4dY1lWllzX7mPBI  Shape of You  ...    233713.0             4.0\n",
              "\n",
              "[1 rows x 16 columns]"
            ]
          },
          "metadata": {
            "tags": []
          },
          "execution_count": 11
        }
      ]
    },
    {
      "cell_type": "code",
      "metadata": {
        "id": "ta7PAZOQG4hv",
        "colab_type": "code",
        "colab": {
          "base_uri": "https://localhost:8080/",
          "height": 80
        },
        "outputId": "be090d23-8ffe-45d7-f0cc-5c586db38c2c"
      },
      "source": [
        "df3 = df3.drop(columns=['key', 'name', 'artists', 'key', 'mode', 'duration_ms', 'time_signature'])\n",
        "df3.head(1)"
      ],
      "execution_count": 12,
      "outputs": [
        {
          "output_type": "execute_result",
          "data": {
            "text/html": [
              "<div>\n",
              "<style scoped>\n",
              "    .dataframe tbody tr th:only-of-type {\n",
              "        vertical-align: middle;\n",
              "    }\n",
              "\n",
              "    .dataframe tbody tr th {\n",
              "        vertical-align: top;\n",
              "    }\n",
              "\n",
              "    .dataframe thead th {\n",
              "        text-align: right;\n",
              "    }\n",
              "</style>\n",
              "<table border=\"1\" class=\"dataframe\">\n",
              "  <thead>\n",
              "    <tr style=\"text-align: right;\">\n",
              "      <th></th>\n",
              "      <th>id</th>\n",
              "      <th>danceability</th>\n",
              "      <th>energy</th>\n",
              "      <th>loudness</th>\n",
              "      <th>speechiness</th>\n",
              "      <th>acousticness</th>\n",
              "      <th>instrumentalness</th>\n",
              "      <th>liveness</th>\n",
              "      <th>valence</th>\n",
              "      <th>tempo</th>\n",
              "    </tr>\n",
              "  </thead>\n",
              "  <tbody>\n",
              "    <tr>\n",
              "      <th>0</th>\n",
              "      <td>7qiZfU4dY1lWllzX7mPBI</td>\n",
              "      <td>0.825</td>\n",
              "      <td>0.652</td>\n",
              "      <td>-3.183</td>\n",
              "      <td>0.0802</td>\n",
              "      <td>0.581</td>\n",
              "      <td>0.0</td>\n",
              "      <td>0.0931</td>\n",
              "      <td>0.931</td>\n",
              "      <td>95.977</td>\n",
              "    </tr>\n",
              "  </tbody>\n",
              "</table>\n",
              "</div>"
            ],
            "text/plain": [
              "                      id  danceability  energy  ...  liveness  valence   tempo\n",
              "0  7qiZfU4dY1lWllzX7mPBI         0.825   0.652  ...    0.0931    0.931  95.977\n",
              "\n",
              "[1 rows x 10 columns]"
            ]
          },
          "metadata": {
            "tags": []
          },
          "execution_count": 12
        }
      ]
    },
    {
      "cell_type": "code",
      "metadata": {
        "id": "FA4ECssmHFHs",
        "colab_type": "code",
        "colab": {
          "base_uri": "https://localhost:8080/",
          "height": 134
        },
        "outputId": "594cfedf-28a6-4c96-aa87-79738e916c17"
      },
      "source": [
        "df4.head(1)"
      ],
      "execution_count": 13,
      "outputs": [
        {
          "output_type": "execute_result",
          "data": {
            "text/html": [
              "<div>\n",
              "<style scoped>\n",
              "    .dataframe tbody tr th:only-of-type {\n",
              "        vertical-align: middle;\n",
              "    }\n",
              "\n",
              "    .dataframe tbody tr th {\n",
              "        vertical-align: top;\n",
              "    }\n",
              "\n",
              "    .dataframe thead th {\n",
              "        text-align: right;\n",
              "    }\n",
              "</style>\n",
              "<table border=\"1\" class=\"dataframe\">\n",
              "  <thead>\n",
              "    <tr style=\"text-align: right;\">\n",
              "      <th></th>\n",
              "      <th>genre</th>\n",
              "      <th>artist_name</th>\n",
              "      <th>track_name</th>\n",
              "      <th>track_id</th>\n",
              "      <th>popularity</th>\n",
              "      <th>acousticness</th>\n",
              "      <th>danceability</th>\n",
              "      <th>duration_ms</th>\n",
              "      <th>energy</th>\n",
              "      <th>instrumentalness</th>\n",
              "      <th>key</th>\n",
              "      <th>liveness</th>\n",
              "      <th>loudness</th>\n",
              "      <th>mode</th>\n",
              "      <th>speechiness</th>\n",
              "      <th>tempo</th>\n",
              "      <th>time_signature</th>\n",
              "      <th>valence</th>\n",
              "    </tr>\n",
              "  </thead>\n",
              "  <tbody>\n",
              "    <tr>\n",
              "      <th>0</th>\n",
              "      <td>Movie</td>\n",
              "      <td>Henri Salvador</td>\n",
              "      <td>C'est beau de faire un Show</td>\n",
              "      <td>0BRjO6ga9RKCKjfDqeFgWV</td>\n",
              "      <td>0</td>\n",
              "      <td>0.611</td>\n",
              "      <td>0.389</td>\n",
              "      <td>99373</td>\n",
              "      <td>0.91</td>\n",
              "      <td>0.0</td>\n",
              "      <td>C#</td>\n",
              "      <td>0.346</td>\n",
              "      <td>-1.828</td>\n",
              "      <td>Major</td>\n",
              "      <td>0.0525</td>\n",
              "      <td>166.969</td>\n",
              "      <td>4/4</td>\n",
              "      <td>0.814</td>\n",
              "    </tr>\n",
              "  </tbody>\n",
              "</table>\n",
              "</div>"
            ],
            "text/plain": [
              "   genre     artist_name  ... time_signature valence\n",
              "0  Movie  Henri Salvador  ...            4/4   0.814\n",
              "\n",
              "[1 rows x 18 columns]"
            ]
          },
          "metadata": {
            "tags": []
          },
          "execution_count": 13
        }
      ]
    },
    {
      "cell_type": "code",
      "metadata": {
        "id": "qfjCybJQHHhw",
        "colab_type": "code",
        "colab": {
          "base_uri": "https://localhost:8080/",
          "height": 80
        },
        "outputId": "1188927b-d70a-456a-f807-238a331659d6"
      },
      "source": [
        "df4 = df4.drop(columns=['genre', 'popularity', 'key', 'artist_name', 'track_name', 'duration_ms', 'mode', 'time_signature'])\n",
        "df4.head(1)"
      ],
      "execution_count": 14,
      "outputs": [
        {
          "output_type": "execute_result",
          "data": {
            "text/html": [
              "<div>\n",
              "<style scoped>\n",
              "    .dataframe tbody tr th:only-of-type {\n",
              "        vertical-align: middle;\n",
              "    }\n",
              "\n",
              "    .dataframe tbody tr th {\n",
              "        vertical-align: top;\n",
              "    }\n",
              "\n",
              "    .dataframe thead th {\n",
              "        text-align: right;\n",
              "    }\n",
              "</style>\n",
              "<table border=\"1\" class=\"dataframe\">\n",
              "  <thead>\n",
              "    <tr style=\"text-align: right;\">\n",
              "      <th></th>\n",
              "      <th>track_id</th>\n",
              "      <th>acousticness</th>\n",
              "      <th>danceability</th>\n",
              "      <th>energy</th>\n",
              "      <th>instrumentalness</th>\n",
              "      <th>liveness</th>\n",
              "      <th>loudness</th>\n",
              "      <th>speechiness</th>\n",
              "      <th>tempo</th>\n",
              "      <th>valence</th>\n",
              "    </tr>\n",
              "  </thead>\n",
              "  <tbody>\n",
              "    <tr>\n",
              "      <th>0</th>\n",
              "      <td>0BRjO6ga9RKCKjfDqeFgWV</td>\n",
              "      <td>0.611</td>\n",
              "      <td>0.389</td>\n",
              "      <td>0.91</td>\n",
              "      <td>0.0</td>\n",
              "      <td>0.346</td>\n",
              "      <td>-1.828</td>\n",
              "      <td>0.0525</td>\n",
              "      <td>166.969</td>\n",
              "      <td>0.814</td>\n",
              "    </tr>\n",
              "  </tbody>\n",
              "</table>\n",
              "</div>"
            ],
            "text/plain": [
              "                 track_id  acousticness  ...    tempo  valence\n",
              "0  0BRjO6ga9RKCKjfDqeFgWV         0.611  ...  166.969    0.814\n",
              "\n",
              "[1 rows x 10 columns]"
            ]
          },
          "metadata": {
            "tags": []
          },
          "execution_count": 14
        }
      ]
    },
    {
      "cell_type": "markdown",
      "metadata": {
        "id": "S6tMyc4dJDoV",
        "colab_type": "text"
      },
      "source": [
        "# Merge Dataframes"
      ]
    },
    {
      "cell_type": "code",
      "metadata": {
        "id": "45lG99KNIyR9",
        "colab_type": "code",
        "colab": {}
      },
      "source": [
        "# Rename id columns so that columns from every dataframe are the same\n",
        "df4 = df4.rename(columns={'track_id':'id'})\n",
        "df1 = df1.rename(columns={'tracks_id':'id'})"
      ],
      "execution_count": 15,
      "outputs": []
    },
    {
      "cell_type": "code",
      "metadata": {
        "id": "zFR9deeTJmv4",
        "colab_type": "code",
        "colab": {
          "base_uri": "https://localhost:8080/",
          "height": 34
        },
        "outputId": "c0b3e6e0-2a16-40f6-cada-0ad2c783b957"
      },
      "source": [
        "spotify_df = df1.merge(df2, how='outer')\n",
        "spotify_df = spotify_df.merge(df3, how='outer')\n",
        "spotify_df = spotify_df.merge(df4, how='outer')\n",
        "spotify_df.shape"
      ],
      "execution_count": 16,
      "outputs": [
        {
          "output_type": "execute_result",
          "data": {
            "text/plain": [
              "(454962, 10)"
            ]
          },
          "metadata": {
            "tags": []
          },
          "execution_count": 16
        }
      ]
    },
    {
      "cell_type": "code",
      "metadata": {
        "id": "aEVF4vDJKI7A",
        "colab_type": "code",
        "colab": {
          "base_uri": "https://localhost:8080/",
          "height": 34
        },
        "outputId": "74f1d698-4f57-4752-c65e-3a21724b9788"
      },
      "source": [
        "spotify_df = spotify_df.drop_duplicates()\n",
        "spotify_df['id'] = spotify_df['id'].drop_duplicates()\n",
        "spotify_df = spotify_df.dropna()\n",
        "spotify_df.shape"
      ],
      "execution_count": 17,
      "outputs": [
        {
          "output_type": "execute_result",
          "data": {
            "text/plain": [
              "(364824, 10)"
            ]
          },
          "metadata": {
            "tags": []
          },
          "execution_count": 17
        }
      ]
    },
    {
      "cell_type": "code",
      "metadata": {
        "id": "iGXo9zXxIofw",
        "colab_type": "code",
        "colab": {}
      },
      "source": [
        "spotify_df = spotify_df.rename(columns={'track_key':'id'})"
      ],
      "execution_count": 18,
      "outputs": []
    },
    {
      "cell_type": "code",
      "metadata": {
        "id": "h5NVQQWtKlYd",
        "colab_type": "code",
        "colab": {
          "base_uri": "https://localhost:8080/",
          "height": 356
        },
        "outputId": "8340c98c-961a-44a0-8300-e1a0bc9ecf0b"
      },
      "source": [
        "spotify_df.sample(10)"
      ],
      "execution_count": 19,
      "outputs": [
        {
          "output_type": "execute_result",
          "data": {
            "text/html": [
              "<div>\n",
              "<style scoped>\n",
              "    .dataframe tbody tr th:only-of-type {\n",
              "        vertical-align: middle;\n",
              "    }\n",
              "\n",
              "    .dataframe tbody tr th {\n",
              "        vertical-align: top;\n",
              "    }\n",
              "\n",
              "    .dataframe thead th {\n",
              "        text-align: right;\n",
              "    }\n",
              "</style>\n",
              "<table border=\"1\" class=\"dataframe\">\n",
              "  <thead>\n",
              "    <tr style=\"text-align: right;\">\n",
              "      <th></th>\n",
              "      <th>id</th>\n",
              "      <th>danceability</th>\n",
              "      <th>energy</th>\n",
              "      <th>loudness</th>\n",
              "      <th>speechiness</th>\n",
              "      <th>acousticness</th>\n",
              "      <th>instrumentalness</th>\n",
              "      <th>liveness</th>\n",
              "      <th>valence</th>\n",
              "      <th>tempo</th>\n",
              "    </tr>\n",
              "  </thead>\n",
              "  <tbody>\n",
              "    <tr>\n",
              "      <th>47672</th>\n",
              "      <td>5ZoI4tXPZzcN7PIVmxO7kF</td>\n",
              "      <td>0.325</td>\n",
              "      <td>0.629</td>\n",
              "      <td>-12.499</td>\n",
              "      <td>0.0614</td>\n",
              "      <td>0.00607</td>\n",
              "      <td>0.000018</td>\n",
              "      <td>0.1360</td>\n",
              "      <td>0.512</td>\n",
              "      <td>80.898</td>\n",
              "    </tr>\n",
              "    <tr>\n",
              "      <th>418738</th>\n",
              "      <td>4JjNmuIjzHVod52pz9pH4H</td>\n",
              "      <td>0.357</td>\n",
              "      <td>0.311</td>\n",
              "      <td>-11.355</td>\n",
              "      <td>0.0388</td>\n",
              "      <td>0.87500</td>\n",
              "      <td>0.412000</td>\n",
              "      <td>0.1650</td>\n",
              "      <td>0.318</td>\n",
              "      <td>97.848</td>\n",
              "    </tr>\n",
              "    <tr>\n",
              "      <th>178187</th>\n",
              "      <td>3hgcfNQI4jOIqjhI13im4E</td>\n",
              "      <td>0.727</td>\n",
              "      <td>0.271</td>\n",
              "      <td>-15.437</td>\n",
              "      <td>0.0398</td>\n",
              "      <td>0.69100</td>\n",
              "      <td>0.000000</td>\n",
              "      <td>0.2390</td>\n",
              "      <td>0.720</td>\n",
              "      <td>123.816</td>\n",
              "    </tr>\n",
              "    <tr>\n",
              "      <th>307232</th>\n",
              "      <td>3uD8x3IzUWD1BNlCC3fXk2</td>\n",
              "      <td>0.540</td>\n",
              "      <td>0.644</td>\n",
              "      <td>-7.676</td>\n",
              "      <td>0.2430</td>\n",
              "      <td>0.04410</td>\n",
              "      <td>0.208000</td>\n",
              "      <td>0.5670</td>\n",
              "      <td>0.469</td>\n",
              "      <td>89.979</td>\n",
              "    </tr>\n",
              "    <tr>\n",
              "      <th>305750</th>\n",
              "      <td>6omXPpAJH4ap2jMGPqjv0C</td>\n",
              "      <td>0.828</td>\n",
              "      <td>0.606</td>\n",
              "      <td>-6.801</td>\n",
              "      <td>0.0707</td>\n",
              "      <td>0.03810</td>\n",
              "      <td>0.243000</td>\n",
              "      <td>0.1100</td>\n",
              "      <td>0.581</td>\n",
              "      <td>127.984</td>\n",
              "    </tr>\n",
              "    <tr>\n",
              "      <th>181044</th>\n",
              "      <td>1KeZgPUr54C8iz3FjqzVoz</td>\n",
              "      <td>0.615</td>\n",
              "      <td>0.564</td>\n",
              "      <td>-6.384</td>\n",
              "      <td>0.0291</td>\n",
              "      <td>0.01050</td>\n",
              "      <td>0.000000</td>\n",
              "      <td>0.1480</td>\n",
              "      <td>0.454</td>\n",
              "      <td>103.006</td>\n",
              "    </tr>\n",
              "    <tr>\n",
              "      <th>105600</th>\n",
              "      <td>6vOk0FeRB3BMh03nLXOTvK</td>\n",
              "      <td>0.603</td>\n",
              "      <td>0.670</td>\n",
              "      <td>-6.949</td>\n",
              "      <td>0.0683</td>\n",
              "      <td>0.80500</td>\n",
              "      <td>0.000009</td>\n",
              "      <td>0.1990</td>\n",
              "      <td>0.842</td>\n",
              "      <td>152.566</td>\n",
              "    </tr>\n",
              "    <tr>\n",
              "      <th>96196</th>\n",
              "      <td>3tTwH5Ut4S1LuTRKUTcj1O</td>\n",
              "      <td>0.432</td>\n",
              "      <td>0.253</td>\n",
              "      <td>-9.235</td>\n",
              "      <td>0.0345</td>\n",
              "      <td>0.81800</td>\n",
              "      <td>0.000000</td>\n",
              "      <td>0.1260</td>\n",
              "      <td>0.111</td>\n",
              "      <td>126.237</td>\n",
              "    </tr>\n",
              "    <tr>\n",
              "      <th>229494</th>\n",
              "      <td>0jv5OcbvTUHgO8FgHhya8b</td>\n",
              "      <td>0.367</td>\n",
              "      <td>0.801</td>\n",
              "      <td>-5.396</td>\n",
              "      <td>0.1370</td>\n",
              "      <td>0.00240</td>\n",
              "      <td>0.000273</td>\n",
              "      <td>0.0603</td>\n",
              "      <td>0.624</td>\n",
              "      <td>107.014</td>\n",
              "    </tr>\n",
              "    <tr>\n",
              "      <th>196139</th>\n",
              "      <td>3NcJu9876GBJuNU6vJOrbb</td>\n",
              "      <td>0.626</td>\n",
              "      <td>0.312</td>\n",
              "      <td>-9.246</td>\n",
              "      <td>0.0332</td>\n",
              "      <td>0.89500</td>\n",
              "      <td>0.000003</td>\n",
              "      <td>0.1810</td>\n",
              "      <td>0.298</td>\n",
              "      <td>98.708</td>\n",
              "    </tr>\n",
              "  </tbody>\n",
              "</table>\n",
              "</div>"
            ],
            "text/plain": [
              "                            id  danceability  ...  valence    tempo\n",
              "47672   5ZoI4tXPZzcN7PIVmxO7kF         0.325  ...    0.512   80.898\n",
              "418738  4JjNmuIjzHVod52pz9pH4H         0.357  ...    0.318   97.848\n",
              "178187  3hgcfNQI4jOIqjhI13im4E         0.727  ...    0.720  123.816\n",
              "307232  3uD8x3IzUWD1BNlCC3fXk2         0.540  ...    0.469   89.979\n",
              "305750  6omXPpAJH4ap2jMGPqjv0C         0.828  ...    0.581  127.984\n",
              "181044  1KeZgPUr54C8iz3FjqzVoz         0.615  ...    0.454  103.006\n",
              "105600  6vOk0FeRB3BMh03nLXOTvK         0.603  ...    0.842  152.566\n",
              "96196   3tTwH5Ut4S1LuTRKUTcj1O         0.432  ...    0.111  126.237\n",
              "229494  0jv5OcbvTUHgO8FgHhya8b         0.367  ...    0.624  107.014\n",
              "196139  3NcJu9876GBJuNU6vJOrbb         0.626  ...    0.298   98.708\n",
              "\n",
              "[10 rows x 10 columns]"
            ]
          },
          "metadata": {
            "tags": []
          },
          "execution_count": 19
        }
      ]
    },
    {
      "cell_type": "code",
      "metadata": {
        "id": "EEYRJIpptSjY",
        "colab_type": "code",
        "colab": {
          "base_uri": "https://localhost:8080/",
          "height": 34
        },
        "outputId": "e55e16db-7308-4d26-b1db-21aeed730861"
      },
      "source": [
        "track_key = []\n",
        "for i in range(spotify_df.shape[0]):\n",
        "\n",
        "  track_key.append(i)\n",
        "\n",
        "len(track_key)"
      ],
      "execution_count": 20,
      "outputs": [
        {
          "output_type": "execute_result",
          "data": {
            "text/plain": [
              "364824"
            ]
          },
          "metadata": {
            "tags": []
          },
          "execution_count": 20
        }
      ]
    },
    {
      "cell_type": "code",
      "metadata": {
        "id": "Xg5NIoy9tyYX",
        "colab_type": "code",
        "colab": {
          "base_uri": "https://localhost:8080/",
          "height": 202
        },
        "outputId": "a8193a19-b14f-4487-bf61-f17c34fb5c61"
      },
      "source": [
        "spotify_df['track_key'] = track_key\n",
        "spotify_df.head()"
      ],
      "execution_count": 21,
      "outputs": [
        {
          "output_type": "execute_result",
          "data": {
            "text/html": [
              "<div>\n",
              "<style scoped>\n",
              "    .dataframe tbody tr th:only-of-type {\n",
              "        vertical-align: middle;\n",
              "    }\n",
              "\n",
              "    .dataframe tbody tr th {\n",
              "        vertical-align: top;\n",
              "    }\n",
              "\n",
              "    .dataframe thead th {\n",
              "        text-align: right;\n",
              "    }\n",
              "</style>\n",
              "<table border=\"1\" class=\"dataframe\">\n",
              "  <thead>\n",
              "    <tr style=\"text-align: right;\">\n",
              "      <th></th>\n",
              "      <th>id</th>\n",
              "      <th>danceability</th>\n",
              "      <th>energy</th>\n",
              "      <th>loudness</th>\n",
              "      <th>speechiness</th>\n",
              "      <th>acousticness</th>\n",
              "      <th>instrumentalness</th>\n",
              "      <th>liveness</th>\n",
              "      <th>valence</th>\n",
              "      <th>tempo</th>\n",
              "      <th>track_key</th>\n",
              "    </tr>\n",
              "  </thead>\n",
              "  <tbody>\n",
              "    <tr>\n",
              "      <th>0</th>\n",
              "      <td>2A9rFFPwsnhusCh8ZMBvYY</td>\n",
              "      <td>0.621</td>\n",
              "      <td>0.814</td>\n",
              "      <td>-5.937</td>\n",
              "      <td>0.1540</td>\n",
              "      <td>0.0405</td>\n",
              "      <td>0.002740</td>\n",
              "      <td>0.2630</td>\n",
              "      <td>0.304</td>\n",
              "      <td>160.066</td>\n",
              "      <td>0</td>\n",
              "    </tr>\n",
              "    <tr>\n",
              "      <th>2</th>\n",
              "      <td>3IEG65Fi7Zm8cQEEG3uJ4H</td>\n",
              "      <td>0.699</td>\n",
              "      <td>0.909</td>\n",
              "      <td>-6.720</td>\n",
              "      <td>0.2360</td>\n",
              "      <td>0.1300</td>\n",
              "      <td>0.000195</td>\n",
              "      <td>0.3400</td>\n",
              "      <td>0.691</td>\n",
              "      <td>171.877</td>\n",
              "      <td>1</td>\n",
              "    </tr>\n",
              "    <tr>\n",
              "      <th>3</th>\n",
              "      <td>4cucslsiEgezV2o900Ykg3</td>\n",
              "      <td>0.613</td>\n",
              "      <td>0.832</td>\n",
              "      <td>-9.187</td>\n",
              "      <td>0.0281</td>\n",
              "      <td>0.3880</td>\n",
              "      <td>0.950000</td>\n",
              "      <td>0.0865</td>\n",
              "      <td>0.480</td>\n",
              "      <td>164.876</td>\n",
              "      <td>2</td>\n",
              "    </tr>\n",
              "    <tr>\n",
              "      <th>4</th>\n",
              "      <td>1z6zJqayfsAiiYtQ3minb7</td>\n",
              "      <td>0.664</td>\n",
              "      <td>0.644</td>\n",
              "      <td>-9.334</td>\n",
              "      <td>0.0352</td>\n",
              "      <td>0.5310</td>\n",
              "      <td>0.661000</td>\n",
              "      <td>0.2510</td>\n",
              "      <td>0.646</td>\n",
              "      <td>79.526</td>\n",
              "      <td>3</td>\n",
              "    </tr>\n",
              "    <tr>\n",
              "      <th>5</th>\n",
              "      <td>36cPAjE8pUyFKoAqOuNpew</td>\n",
              "      <td>0.612</td>\n",
              "      <td>0.716</td>\n",
              "      <td>-7.995</td>\n",
              "      <td>0.0256</td>\n",
              "      <td>0.0505</td>\n",
              "      <td>0.004620</td>\n",
              "      <td>0.0872</td>\n",
              "      <td>0.802</td>\n",
              "      <td>168.062</td>\n",
              "      <td>4</td>\n",
              "    </tr>\n",
              "  </tbody>\n",
              "</table>\n",
              "</div>"
            ],
            "text/plain": [
              "                       id  danceability  energy  ...  valence    tempo  track_key\n",
              "0  2A9rFFPwsnhusCh8ZMBvYY         0.621   0.814  ...    0.304  160.066          0\n",
              "2  3IEG65Fi7Zm8cQEEG3uJ4H         0.699   0.909  ...    0.691  171.877          1\n",
              "3  4cucslsiEgezV2o900Ykg3         0.613   0.832  ...    0.480  164.876          2\n",
              "4  1z6zJqayfsAiiYtQ3minb7         0.664   0.644  ...    0.646   79.526          3\n",
              "5  36cPAjE8pUyFKoAqOuNpew         0.612   0.716  ...    0.802  168.062          4\n",
              "\n",
              "[5 rows x 11 columns]"
            ]
          },
          "metadata": {
            "tags": []
          },
          "execution_count": 21
        }
      ]
    },
    {
      "cell_type": "code",
      "metadata": {
        "id": "c9kXF8NhK4fb",
        "colab_type": "code",
        "colab": {}
      },
      "source": [
        "spotify_df.to_csv('spotify_song_data.csv')"
      ],
      "execution_count": 114,
      "outputs": []
    },
    {
      "cell_type": "markdown",
      "metadata": {
        "id": "6zVSxzNNIzY2",
        "colab_type": "text"
      },
      "source": [
        "# Let's Create a Baseline Predictive Model Now"
      ]
    },
    {
      "cell_type": "code",
      "metadata": {
        "id": "yjLN3gfld4xZ",
        "colab_type": "code",
        "colab": {
          "base_uri": "https://localhost:8080/",
          "height": 502
        },
        "outputId": "3959539d-67f3-447c-e9a1-8c09b57740e4"
      },
      "source": [
        "from sklearn.model_selection import train_test_split\n",
        "train, test = train_test_split(spotify_df)\n",
        "train, test"
      ],
      "execution_count": 22,
      "outputs": [
        {
          "output_type": "execute_result",
          "data": {
            "text/plain": [
              "(                            id  danceability  ...    tempo  track_key\n",
              " 202877  3WlKkEYNe3Xhk3zER805g9         0.701  ...  113.043     169544\n",
              " 339906  1ZhwUkZfNpbCwwBFNqClRL         0.637  ...  108.304     269394\n",
              " 255457  2bNnfnqNhy7dZXSbU1de8U         0.449  ...  144.038     214981\n",
              " 62973   6olS0TmHmsGr0hXtcBsiVM         0.272  ...  202.777      51937\n",
              " 390360  15Ad73dlBgmnzVaXOx1CjK         0.816  ...   82.008     305987\n",
              " ...                        ...           ...  ...      ...        ...\n",
              " 254579  5wOlrILWF42yYT5iqeUeEl         0.710  ...   99.962     214187\n",
              " 429548  3wVpfxlIKWbfpJcr7CXVHQ         0.252  ...   83.485     341491\n",
              " 397145  6uUbQnzl9J7rOOirRITGjW         0.526  ...  145.925     311289\n",
              " 371802  5P1cTU7nvshZQ4WbgejlI2         0.436  ...  127.276     290740\n",
              " 100479  3Jxjb19MCQAygvyFeHs6TX         0.724  ...  112.992      79447\n",
              " \n",
              " [273618 rows x 11 columns],\n",
              "                             id  danceability  ...    tempo  track_key\n",
              " 153513  2mCpV86eTv2nUFEjN6kDBG         0.682  ...  130.674     128024\n",
              " 274618  4sf2L157iEgAR7yrCNLgSq         0.562  ...  145.913     231802\n",
              " 169273  16Y9fKPEa7SQ5lZojVuNcO         0.714  ...  107.529     142799\n",
              " 101252  2cDSIHTfijPEtbwJozJ16s         0.576  ...  141.959      80091\n",
              " 25588   22YDVjb11sstVqDkUaBhUE         0.700  ...  128.068      21285\n",
              " ...                        ...           ...  ...      ...        ...\n",
              " 185688  6kLp24Op7cOu8iQkU46sBv         0.624  ...  104.357     158066\n",
              " 184331  1r8SFRVZWeyLDlG0lBbEiu         0.522  ...  149.765     156896\n",
              " 268223  2KYWhE49WxmURB6LDLi8qN         0.517  ...  122.631     226159\n",
              " 212684  3FAPlhBwzDXjWEeQuWJZbd         0.695  ...  129.821     177412\n",
              " 414181  145fDusxXmqTad137UwzVw         0.448  ...   73.369     327381\n",
              " \n",
              " [91206 rows x 11 columns])"
            ]
          },
          "metadata": {
            "tags": []
          },
          "execution_count": 22
        }
      ]
    },
    {
      "cell_type": "code",
      "metadata": {
        "id": "bzHJiWWOeNl0",
        "colab_type": "code",
        "colab": {}
      },
      "source": [
        "X_train, X_test = train.drop(columns='id'), test.drop(columns='id')"
      ],
      "execution_count": 23,
      "outputs": []
    },
    {
      "cell_type": "code",
      "metadata": {
        "id": "rHLR51lqZXv3",
        "colab_type": "code",
        "colab": {
          "base_uri": "https://localhost:8080/",
          "height": 242
        },
        "outputId": "79582f4e-3290-4455-b5d0-aac282b23d70"
      },
      "source": [
        "from sklearn.preprocessing import StandardScaler, OneHotEncoder\n",
        "\n",
        "# Instantiate Standard Scaler\n",
        "scaler = StandardScaler()\n",
        "\n",
        "# Fit_transform train data\n",
        "X_train_scaled = scaler.fit_transform(X_train)\n",
        "\n",
        "# Transform test data\n",
        "X_test_scaled = scaler.transform(X_test)\n",
        "\n",
        "X_train_scaled"
      ],
      "execution_count": 24,
      "outputs": [
        {
          "output_type": "execute_result",
          "data": {
            "text/plain": [
              "array([[ 0.83435289, -0.21018911,  0.26371656, ...,  0.43409352,\n",
              "        -0.14047095, -0.12292105],\n",
              "       [ 0.48628342, -0.09275456,  0.27854826, ...,  0.45291598,\n",
              "        -0.29396982,  0.82495193],\n",
              "       [-0.53617064,  0.54946565,  0.56768319, ..., -0.05905486,\n",
              "         0.8634745 ,  0.308411  ],\n",
              "       ...,\n",
              "       [-0.11739956,  0.28890774,  0.81498938, ...,  0.0915248 ,\n",
              "         0.92459549,  1.22265988],\n",
              "       [-0.60687225, -1.76105916, -2.26317273, ..., -0.76301477,\n",
              "         0.32054391,  1.02758886],\n",
              "       [ 0.95944035,  0.48707854,  0.86148427, ...,  0.99123826,\n",
              "        -0.14212287, -0.9782091 ]])"
            ]
          },
          "metadata": {
            "tags": []
          },
          "execution_count": 24
        }
      ]
    },
    {
      "cell_type": "code",
      "metadata": {
        "id": "BIa2yMidu9l7",
        "colab_type": "code",
        "colab": {
          "base_uri": "https://localhost:8080/",
          "height": 34
        },
        "outputId": "ef53acf8-0dde-4f8b-bbde-775f997c907f"
      },
      "source": [
        "len(X_train_scaled), len(X_test_scaled)"
      ],
      "execution_count": 25,
      "outputs": [
        {
          "output_type": "execute_result",
          "data": {
            "text/plain": [
              "(273618, 91206)"
            ]
          },
          "metadata": {
            "tags": []
          },
          "execution_count": 25
        }
      ]
    },
    {
      "cell_type": "code",
      "metadata": {
        "id": "PTGqfV6vvSr3",
        "colab_type": "code",
        "colab": {}
      },
      "source": [
        "# Reshape data\n",
        "import numpy as np\n",
        "X_train = X_train_scaled.reshape((len(X_train), np.prod(X_train_scaled.shape[1:])))\n",
        "X_test = X_test_scaled.reshape((len(X_test), np.prod(X_test_scaled.shape[1:])))"
      ],
      "execution_count": 27,
      "outputs": []
    },
    {
      "cell_type": "code",
      "metadata": {
        "id": "Vn5d5cz-FIFN",
        "colab_type": "code",
        "colab": {
          "base_uri": "https://localhost:8080/",
          "height": 34
        },
        "outputId": "24505745-b429-454a-f1ce-6984fc7d0218"
      },
      "source": [
        "len(X_train),len(X_test)"
      ],
      "execution_count": 28,
      "outputs": [
        {
          "output_type": "execute_result",
          "data": {
            "text/plain": [
              "(273618, 91206)"
            ]
          },
          "metadata": {
            "tags": []
          },
          "execution_count": 28
        }
      ]
    },
    {
      "cell_type": "code",
      "metadata": {
        "id": "yFKjPE6OhAtn",
        "colab_type": "code",
        "colab": {
          "base_uri": "https://localhost:8080/",
          "height": 1000
        },
        "outputId": "fd24f118-1f97-41a1-9acb-97ec8734acbb"
      },
      "source": [
        "# Create our baseline model\n",
        "from tensorflow import keras\n",
        "from tensorflow.keras.models import Sequential\n",
        "from tensorflow.keras.layers import Dense, Flatten\n",
        "\n",
        "# Important hyperparameters\n",
        "inputs = X_train.shape[1]\n",
        "epochs = 75\n",
        "batch_size = 10\n",
        "\n",
        "# Create model\n",
        "model = Sequential([\n",
        "    Dense(64, activation='relu', input_dim=inputs),\n",
        "    Dense(64, activation='relu'),\n",
        "    Dense(10, activation='softmax')\n",
        "    ])\n",
        "\n",
        "# Compile model\n",
        "model.compile(optimizer='adam', loss='categorical_crossentropy')\n",
        "\n",
        "# Fit model\n",
        "model.fit(X_train, X_train,\n",
        "          validation_data=(X_test, X_test),\n",
        "          epochs=epochs,\n",
        "          batch_size=batch_size\n",
        "          )"
      ],
      "execution_count": 29,
      "outputs": [
        {
          "output_type": "stream",
          "text": [
            "Epoch 1/75\n",
            "27362/27362 [==============================] - 67s 2ms/step - loss: -175811424.0000 - val_loss: -626918464.0000\n",
            "Epoch 2/75\n",
            "27362/27362 [==============================] - 69s 3ms/step - loss: -2034432384.0000 - val_loss: -4077159936.0000\n",
            "Epoch 3/75\n",
            "27362/27362 [==============================] - 67s 2ms/step - loss: -7878820352.0000 - val_loss: -12598508544.0000\n",
            "Epoch 4/75\n",
            "27362/27362 [==============================] - 67s 2ms/step - loss: -19934423040.0000 - val_loss: -28449884160.0000\n",
            "Epoch 5/75\n",
            "27362/27362 [==============================] - 70s 3ms/step - loss: -40561459200.0000 - val_loss: -53766463488.0000\n",
            "Epoch 6/75\n",
            "27362/27362 [==============================] - 70s 3ms/step - loss: -71658807296.0000 - val_loss: -90689929216.0000\n",
            "Epoch 7/75\n",
            "27362/27362 [==============================] - 72s 3ms/step - loss: -115748831232.0000 - val_loss: -141680427008.0000\n",
            "Epoch 8/75\n",
            "27362/27362 [==============================] - 67s 2ms/step - loss: -175036612608.0000 - val_loss: -208814424064.0000\n",
            "Epoch 9/75\n",
            "27362/27362 [==============================] - 66s 2ms/step - loss: -251529576448.0000 - val_loss: -294075170816.0000\n",
            "Epoch 10/75\n",
            "27362/27362 [==============================] - 67s 2ms/step - loss: -347439497216.0000 - val_loss: -399721562112.0000\n",
            "Epoch 11/75\n",
            "27362/27362 [==============================] - 67s 2ms/step - loss: -465428086784.0000 - val_loss: -528631234560.0000\n",
            "Epoch 12/75\n",
            "27362/27362 [==============================] - 66s 2ms/step - loss: -607116918784.0000 - val_loss: -681960603648.0000\n",
            "Epoch 13/75\n",
            "27362/27362 [==============================] - 66s 2ms/step - loss: -774927876096.0000 - val_loss: -862095605760.0000\n",
            "Epoch 14/75\n",
            "27362/27362 [==============================] - 66s 2ms/step - loss: -971111202816.0000 - val_loss: -1071708897280.0000\n",
            "Epoch 15/75\n",
            "27362/27362 [==============================] - 66s 2ms/step - loss: -1197462388736.0000 - val_loss: -1312970506240.0000\n",
            "Epoch 16/75\n",
            "27362/27362 [==============================] - 68s 2ms/step - loss: -1457238441984.0000 - val_loss: -1587442614272.0000\n",
            "Epoch 17/75\n",
            "27362/27362 [==============================] - 66s 2ms/step - loss: -1751786848256.0000 - val_loss: -1897581641728.0000\n",
            "Epoch 18/75\n",
            "27362/27362 [==============================] - 66s 2ms/step - loss: -2083363618816.0000 - val_loss: -2245992382464.0000\n",
            "Epoch 19/75\n",
            "27362/27362 [==============================] - 67s 2ms/step - loss: -2453270429696.0000 - val_loss: -2634661494784.0000\n",
            "Epoch 20/75\n",
            "27362/27362 [==============================] - 68s 2ms/step - loss: -2867319275520.0000 - val_loss: -3066961068032.0000\n",
            "Epoch 21/75\n",
            "27362/27362 [==============================] - 67s 2ms/step - loss: -3323302772736.0000 - val_loss: -3542307569664.0000\n",
            "Epoch 22/75\n",
            "27362/27362 [==============================] - 70s 3ms/step - loss: -3825658232832.0000 - val_loss: -4064723861504.0000\n",
            "Epoch 23/75\n",
            "27362/27362 [==============================] - 71s 3ms/step - loss: -4377654591488.0000 - val_loss: -4636090564608.0000\n",
            "Epoch 24/75\n",
            "27362/27362 [==============================] - 68s 2ms/step - loss: -4975995387904.0000 - val_loss: -5257761914880.0000\n",
            "Epoch 25/75\n",
            "27362/27362 [==============================] - 65s 2ms/step - loss: -5629288644608.0000 - val_loss: -5933635731456.0000\n",
            "Epoch 26/75\n",
            "27362/27362 [==============================] - 64s 2ms/step - loss: -6338748350464.0000 - val_loss: -6665633529856.0000\n",
            "Epoch 27/75\n",
            "27362/27362 [==============================] - 63s 2ms/step - loss: -7105576173568.0000 - val_loss: -7457264893952.0000\n",
            "Epoch 28/75\n",
            "27362/27362 [==============================] - 64s 2ms/step - loss: -7929382567936.0000 - val_loss: -8306160041984.0000\n",
            "Epoch 29/75\n",
            "27362/27362 [==============================] - 64s 2ms/step - loss: -8817807982592.0000 - val_loss: -9218408054784.0000\n",
            "Epoch 30/75\n",
            "27362/27362 [==============================] - 66s 2ms/step - loss: -9767329202176.0000 - val_loss: -10192709222400.0000\n",
            "Epoch 31/75\n",
            "27362/27362 [==============================] - 64s 2ms/step - loss: -10784145932288.0000 - val_loss: -11235778101248.0000\n",
            "Epoch 32/75\n",
            "27362/27362 [==============================] - 64s 2ms/step - loss: -11864154046464.0000 - val_loss: -12345525927936.0000\n",
            "Epoch 33/75\n",
            "27362/27362 [==============================] - 68s 2ms/step - loss: -13019768684544.0000 - val_loss: -13527494426624.0000\n",
            "Epoch 34/75\n",
            "27362/27362 [==============================] - 68s 2ms/step - loss: -14244367040512.0000 - val_loss: -14780275359744.0000\n",
            "Epoch 35/75\n",
            "27362/27362 [==============================] - 67s 2ms/step - loss: -15543909220352.0000 - val_loss: -16107875336192.0000\n",
            "Epoch 36/75\n",
            "27362/27362 [==============================] - 65s 2ms/step - loss: -16920557387776.0000 - val_loss: -17515137728512.0000\n",
            "Epoch 37/75\n",
            "27362/27362 [==============================] - 65s 2ms/step - loss: -18379538694144.0000 - val_loss: -19004286566400.0000\n",
            "Epoch 38/75\n",
            "27362/27362 [==============================] - 64s 2ms/step - loss: -19919808757760.0000 - val_loss: -20575722405888.0000\n",
            "Epoch 39/75\n",
            "27362/27362 [==============================] - 65s 2ms/step - loss: -21544484995072.0000 - val_loss: -22232703172608.0000\n",
            "Epoch 40/75\n",
            "27362/27362 [==============================] - 65s 2ms/step - loss: -23255446454272.0000 - val_loss: -23972177510400.0000\n",
            "Epoch 41/75\n",
            "27362/27362 [==============================] - 64s 2ms/step - loss: -25050998636544.0000 - val_loss: -25800216674304.0000\n",
            "Epoch 42/75\n",
            "27362/27362 [==============================] - 65s 2ms/step - loss: -26936606720000.0000 - val_loss: -27721251946496.0000\n",
            "Epoch 43/75\n",
            "27362/27362 [==============================] - 66s 2ms/step - loss: -28916848787456.0000 - val_loss: -29728824098816.0000\n",
            "Epoch 44/75\n",
            "27362/27362 [==============================] - 68s 2ms/step - loss: -30987048189952.0000 - val_loss: -31838502387712.0000\n",
            "Epoch 45/75\n",
            "27362/27362 [==============================] - 66s 2ms/step - loss: -33156291887104.0000 - val_loss: -34039683612672.0000\n",
            "Epoch 46/75\n",
            "27362/27362 [==============================] - 66s 2ms/step - loss: -35426547007488.0000 - val_loss: -36341630894080.0000\n",
            "Epoch 47/75\n",
            "27362/27362 [==============================] - 66s 2ms/step - loss: -37789303308288.0000 - val_loss: -38742937042944.0000\n",
            "Epoch 48/75\n",
            "27362/27362 [==============================] - 66s 2ms/step - loss: -40264332738560.0000 - val_loss: -41248077381632.0000\n",
            "Epoch 49/75\n",
            "27362/27362 [==============================] - 67s 2ms/step - loss: -42838951723008.0000 - val_loss: -43866161938432.0000\n",
            "Epoch 50/75\n",
            "27362/27362 [==============================] - 65s 2ms/step - loss: -45527966154752.0000 - val_loss: -46587527036928.0000\n",
            "Epoch 51/75\n",
            "27362/27362 [==============================] - 64s 2ms/step - loss: -48329887055872.0000 - val_loss: -49425195991040.0000\n",
            "Epoch 52/75\n",
            "27362/27362 [==============================] - 65s 2ms/step - loss: -51237374394368.0000 - val_loss: -52372025901056.0000\n",
            "Epoch 53/75\n",
            "27362/27362 [==============================] - 65s 2ms/step - loss: -54266416857088.0000 - val_loss: -55432085241856.0000\n",
            "Epoch 54/75\n",
            "27362/27362 [==============================] - 68s 2ms/step - loss: -57403278098432.0000 - val_loss: -58612802125824.0000\n",
            "Epoch 55/75\n",
            "27362/27362 [==============================] - 66s 2ms/step - loss: -60656791322624.0000 - val_loss: -61905049747456.0000\n",
            "Epoch 56/75\n",
            "27362/27362 [==============================] - 67s 2ms/step - loss: -64043234623488.0000 - val_loss: -65327681503232.0000\n",
            "Epoch 57/75\n",
            "27362/27362 [==============================] - 67s 2ms/step - loss: -67543674912768.0000 - val_loss: -68872325562368.0000\n",
            "Epoch 58/75\n",
            "27362/27362 [==============================] - 69s 3ms/step - loss: -71190332833792.0000 - val_loss: -72548163256320.0000\n",
            "Epoch 59/75\n",
            "27362/27362 [==============================] - 67s 2ms/step - loss: -74946206236672.0000 - val_loss: -76341860892672.0000\n",
            "Epoch 60/75\n",
            "27362/27362 [==============================] - 67s 2ms/step - loss: -78831750742016.0000 - val_loss: -80271370092544.0000\n",
            "Epoch 61/75\n",
            "27362/27362 [==============================] - 67s 2ms/step - loss: -82855069745152.0000 - val_loss: -84336338534400.0000\n",
            "Epoch 62/75\n",
            "27362/27362 [==============================] - 69s 3ms/step - loss: -87014510690304.0000 - val_loss: -88531816939520.0000\n",
            "Epoch 63/75\n",
            "27362/27362 [==============================] - 69s 3ms/step - loss: -91308387467264.0000 - val_loss: -92865824817152.0000\n",
            "Epoch 64/75\n",
            "27362/27362 [==============================] - 67s 2ms/step - loss: -95742261723136.0000 - val_loss: -97341465952256.0000\n",
            "Epoch 65/75\n",
            "27362/27362 [==============================] - 66s 2ms/step - loss: -100310932520960.0000 - val_loss: -101955124854784.0000\n",
            "Epoch 66/75\n",
            "27362/27362 [==============================] - 67s 2ms/step - loss: -105038181564416.0000 - val_loss: -106710165356544.0000\n",
            "Epoch 67/75\n",
            "27362/27362 [==============================] - 68s 2ms/step - loss: -109901393166336.0000 - val_loss: -111621619843072.0000\n",
            "Epoch 68/75\n",
            "27362/27362 [==============================] - 68s 2ms/step - loss: -114913141850112.0000 - val_loss: -116671511527424.0000\n",
            "Epoch 69/75\n",
            "27362/27362 [==============================] - 66s 2ms/step - loss: -120080088170496.0000 - val_loss: -121879343923200.0000\n",
            "Epoch 70/75\n",
            "27362/27362 [==============================] - 67s 2ms/step - loss: -125397802942464.0000 - val_loss: -127236820697088.0000\n",
            "Epoch 71/75\n",
            "27362/27362 [==============================] - 67s 2ms/step - loss: -130874154680320.0000 - val_loss: -132755056754688.0000\n",
            "Epoch 72/75\n",
            "27362/27362 [==============================] - 67s 2ms/step - loss: -136505418842112.0000 - val_loss: -138431619399680.0000\n",
            "Epoch 73/75\n",
            "27362/27362 [==============================] - 68s 3ms/step - loss: -142306342600704.0000 - val_loss: -144267783700480.0000\n",
            "Epoch 74/75\n",
            "27362/27362 [==============================] - 66s 2ms/step - loss: -148256365477888.0000 - val_loss: -150257736351744.0000\n",
            "Epoch 75/75\n",
            "27362/27362 [==============================] - 66s 2ms/step - loss: -154377381740544.0000 - val_loss: -156423463895040.0000\n"
          ],
          "name": "stdout"
        },
        {
          "output_type": "execute_result",
          "data": {
            "text/plain": [
              "<tensorflow.python.keras.callbacks.History at 0x7fd4c005f128>"
            ]
          },
          "metadata": {
            "tags": []
          },
          "execution_count": 29
        }
      ]
    },
    {
      "cell_type": "code",
      "metadata": {
        "id": "dw_bZgT9u5JF",
        "colab_type": "code",
        "colab": {}
      },
      "source": [
        ""
      ],
      "execution_count": null,
      "outputs": []
    }
  ]
}